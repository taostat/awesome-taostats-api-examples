{
 "cells": [
  {
   "cell_type": "code",
   "execution_count": 35,
   "id": "e56d8fd0-d42e-4c0a-8d85-81c3b1904a91",
   "metadata": {},
   "outputs": [],
   "source": [
    "import requests, json\n",
    "import pandas as pd\n",
    "import numpy as np\n",
    "import decimal\n",
    "import time\n",
    "from datetime import datetime, timedelta\n",
    "from rich import print\n",
    "\n",
    "\n",
    "api_key=\"\"\n",
    "\n",
    "\n",
    "headers = {\n",
    "            \"accept\": \"application/json\",\n",
    "            \"Authorization\": api_key\n",
    "        }"
   ]
  },
  {
   "cell_type": "code",
   "execution_count": 36,
   "id": "b4fa6dfd-16e9-4ef8-a606-bcd9b8dabd5a",
   "metadata": {},
   "outputs": [],
   "source": [
    "url = \"https://api.taostats.io/api/subnet/latest/v1\"\n",
    "\n",
    "\n",
    "response = requests.get(url, headers=headers)\n",
    "\n",
    "resJson = json.loads(response.text)"
   ]
  },
  {
   "cell_type": "code",
   "execution_count": 44,
   "id": "26d1f827-d16b-462a-8636-004fb0271f7a",
   "metadata": {},
   "outputs": [],
   "source": [
    "crsubnets =[]\n",
    "count =0\n",
    "emission_sum=0\n",
    "sn0 = 0\n",
    "subnets = resJson['data']\n",
    "for subnet in subnets:\n",
    "    if subnet['commit_reveal_weights_enabled']:\n",
    "        emission = float(subnet['emission'])/1e9\n",
    "        emission_sum+=emission\n",
    "        crsubnets.append({subnet['netuid']:subnet['commit_reveal_weights_interval']})\n",
    "        count +=1\n",
    "    if subnet['netuid'] ==0:\n",
    "        sn0 = float(subnet['emission'])/1e9\n",
    "        #emission_sum+=emission\n",
    "\n",
    "#account for tao being recyled in root\n",
    "emission_sum = emission_sum/(1-sn0)"
   ]
  },
  {
   "cell_type": "code",
   "execution_count": 45,
   "id": "d164091b-09a1-4427-b1c2-b8c7c518c893",
   "metadata": {},
   "outputs": [
    {
     "data": {
      "text/html": [
       "<pre style=\"white-space:pre;overflow-x:auto;line-height:normal;font-family:Menlo,'DejaVu Sans Mono',consolas,'Courier New',monospace\"><span style=\"font-weight: bold\">[{</span><span style=\"color: #008080; text-decoration-color: #008080; font-weight: bold\">1</span>: <span style=\"color: #008080; text-decoration-color: #008080; font-weight: bold\">1</span><span style=\"font-weight: bold\">}</span>, <span style=\"font-weight: bold\">{</span><span style=\"color: #008080; text-decoration-color: #008080; font-weight: bold\">2</span>: <span style=\"color: #008080; text-decoration-color: #008080; font-weight: bold\">1</span><span style=\"font-weight: bold\">}</span>, <span style=\"font-weight: bold\">{</span><span style=\"color: #008080; text-decoration-color: #008080; font-weight: bold\">7</span>: <span style=\"color: #008080; text-decoration-color: #008080; font-weight: bold\">1</span><span style=\"font-weight: bold\">}</span>, <span style=\"font-weight: bold\">{</span><span style=\"color: #008080; text-decoration-color: #008080; font-weight: bold\">9</span>: <span style=\"color: #008080; text-decoration-color: #008080; font-weight: bold\">1</span><span style=\"font-weight: bold\">}</span>, <span style=\"font-weight: bold\">{</span><span style=\"color: #008080; text-decoration-color: #008080; font-weight: bold\">12</span>: <span style=\"color: #008080; text-decoration-color: #008080; font-weight: bold\">1</span><span style=\"font-weight: bold\">}</span>, <span style=\"font-weight: bold\">{</span><span style=\"color: #008080; text-decoration-color: #008080; font-weight: bold\">13</span>: <span style=\"color: #008080; text-decoration-color: #008080; font-weight: bold\">1</span><span style=\"font-weight: bold\">}</span>, <span style=\"font-weight: bold\">{</span><span style=\"color: #008080; text-decoration-color: #008080; font-weight: bold\">17</span>: <span style=\"color: #008080; text-decoration-color: #008080; font-weight: bold\">8</span><span style=\"font-weight: bold\">}</span>, <span style=\"font-weight: bold\">{</span><span style=\"color: #008080; text-decoration-color: #008080; font-weight: bold\">25</span>: <span style=\"color: #008080; text-decoration-color: #008080; font-weight: bold\">1</span><span style=\"font-weight: bold\">}</span>, <span style=\"font-weight: bold\">{</span><span style=\"color: #008080; text-decoration-color: #008080; font-weight: bold\">31</span>: <span style=\"color: #008080; text-decoration-color: #008080; font-weight: bold\">1</span><span style=\"font-weight: bold\">}</span>, <span style=\"font-weight: bold\">{</span><span style=\"color: #008080; text-decoration-color: #008080; font-weight: bold\">34</span>: <span style=\"color: #008080; text-decoration-color: #008080; font-weight: bold\">2</span><span style=\"font-weight: bold\">}]</span>\n",
       "</pre>\n"
      ],
      "text/plain": [
       "\u001b[1m[\u001b[0m\u001b[1m{\u001b[0m\u001b[1;36m1\u001b[0m: \u001b[1;36m1\u001b[0m\u001b[1m}\u001b[0m, \u001b[1m{\u001b[0m\u001b[1;36m2\u001b[0m: \u001b[1;36m1\u001b[0m\u001b[1m}\u001b[0m, \u001b[1m{\u001b[0m\u001b[1;36m7\u001b[0m: \u001b[1;36m1\u001b[0m\u001b[1m}\u001b[0m, \u001b[1m{\u001b[0m\u001b[1;36m9\u001b[0m: \u001b[1;36m1\u001b[0m\u001b[1m}\u001b[0m, \u001b[1m{\u001b[0m\u001b[1;36m12\u001b[0m: \u001b[1;36m1\u001b[0m\u001b[1m}\u001b[0m, \u001b[1m{\u001b[0m\u001b[1;36m13\u001b[0m: \u001b[1;36m1\u001b[0m\u001b[1m}\u001b[0m, \u001b[1m{\u001b[0m\u001b[1;36m17\u001b[0m: \u001b[1;36m8\u001b[0m\u001b[1m}\u001b[0m, \u001b[1m{\u001b[0m\u001b[1;36m25\u001b[0m: \u001b[1;36m1\u001b[0m\u001b[1m}\u001b[0m, \u001b[1m{\u001b[0m\u001b[1;36m31\u001b[0m: \u001b[1;36m1\u001b[0m\u001b[1m}\u001b[0m, \u001b[1m{\u001b[0m\u001b[1;36m34\u001b[0m: \u001b[1;36m2\u001b[0m\u001b[1m}\u001b[0m\u001b[1m]\u001b[0m\n"
      ]
     },
     "metadata": {},
     "output_type": "display_data"
    },
    {
     "data": {
      "text/html": [
       "<pre style=\"white-space:pre;overflow-x:auto;line-height:normal;font-family:Menlo,'DejaVu Sans Mono',consolas,'Courier New',monospace\"><span style=\"color: #008080; text-decoration-color: #008080; font-weight: bold\">10</span>\n",
       "</pre>\n"
      ],
      "text/plain": [
       "\u001b[1;36m10\u001b[0m\n"
      ]
     },
     "metadata": {},
     "output_type": "display_data"
    },
    {
     "data": {
      "text/html": [
       "<pre style=\"white-space:pre;overflow-x:auto;line-height:normal;font-family:Menlo,'DejaVu Sans Mono',consolas,'Courier New',monospace\"><span style=\"color: #008080; text-decoration-color: #008080; font-weight: bold\">0.2879696634288899</span>\n",
       "</pre>\n"
      ],
      "text/plain": [
       "\u001b[1;36m0.2879696634288899\u001b[0m\n"
      ]
     },
     "metadata": {},
     "output_type": "display_data"
    }
   ],
   "source": [
    "print(crsubnets)\n",
    "print(count)\n",
    "print(emission_sum)"
   ]
  },
  {
   "cell_type": "code",
   "execution_count": 39,
   "id": "ed989fed-75a4-4dde-948b-6fe3f8cbfa90",
   "metadata": {},
   "outputs": [
    {
     "data": {
      "text/html": [
       "<pre style=\"white-space:pre;overflow-x:auto;line-height:normal;font-family:Menlo,'DejaVu Sans Mono',consolas,'Courier New',monospace\"><span style=\"font-weight: bold\">{</span>\n",
       "    <span style=\"color: #008000; text-decoration-color: #008000\">'block_number'</span>: <span style=\"color: #008080; text-decoration-color: #008080; font-weight: bold\">4517118</span>,\n",
       "    <span style=\"color: #008000; text-decoration-color: #008000\">'timestamp'</span>: <span style=\"color: #008000; text-decoration-color: #008000\">'2024-12-19T17:37:48Z'</span>,\n",
       "    <span style=\"color: #008000; text-decoration-color: #008000\">'netuid'</span>: <span style=\"color: #008080; text-decoration-color: #008080; font-weight: bold\">63</span>,\n",
       "    <span style=\"color: #008000; text-decoration-color: #008000\">'owner'</span>: <span style=\"font-weight: bold\">{</span>\n",
       "        <span style=\"color: #008000; text-decoration-color: #008000\">'ss58'</span>: <span style=\"color: #008000; text-decoration-color: #008000\">'5DM3b6Ug3aVeWVktv4unNM2HyQVS2uKagdK5NZxbBV8GsRKR'</span>,\n",
       "        <span style=\"color: #008000; text-decoration-color: #008000\">'hex'</span>: <span style=\"color: #008000; text-decoration-color: #008000\">'0x38b29500cebbf08d5d9649a187c2d9efd2cc1f78081fa6860e6b86ab0d93312c'</span>\n",
       "    <span style=\"font-weight: bold\">}</span>,\n",
       "    <span style=\"color: #008000; text-decoration-color: #008000\">'registration_block_number'</span>: <span style=\"color: #008080; text-decoration-color: #008080; font-weight: bold\">4503009</span>,\n",
       "    <span style=\"color: #008000; text-decoration-color: #008000\">'registration_timestamp'</span>: <span style=\"color: #008000; text-decoration-color: #008000\">'2024-12-17T18:33:24.001Z'</span>,\n",
       "    <span style=\"color: #008000; text-decoration-color: #008000\">'registration_cost'</span>: <span style=\"color: #008000; text-decoration-color: #008000\">'4124855455904'</span>,\n",
       "    <span style=\"color: #008000; text-decoration-color: #008000\">'neuron_registration_cost'</span>: <span style=\"color: #008000; text-decoration-color: #008000\">'580341598'</span>,\n",
       "    <span style=\"color: #008000; text-decoration-color: #008000\">'max_neurons'</span>: <span style=\"color: #008080; text-decoration-color: #008080; font-weight: bold\">256</span>,\n",
       "    <span style=\"color: #008000; text-decoration-color: #008000\">'neuron_registrations_this_interval'</span>: <span style=\"color: #008080; text-decoration-color: #008080; font-weight: bold\">0</span>,\n",
       "    <span style=\"color: #008000; text-decoration-color: #008000\">'active_keys'</span>: <span style=\"color: #008080; text-decoration-color: #008080; font-weight: bold\">4</span>,\n",
       "    <span style=\"color: #008000; text-decoration-color: #008000\">'validators'</span>: <span style=\"color: #008080; text-decoration-color: #008080; font-weight: bold\">0</span>,\n",
       "    <span style=\"color: #008000; text-decoration-color: #008000\">'active_validators'</span>: <span style=\"color: #008080; text-decoration-color: #008080; font-weight: bold\">0</span>,\n",
       "    <span style=\"color: #008000; text-decoration-color: #008000\">'active_miners'</span>: <span style=\"color: #008080; text-decoration-color: #008080; font-weight: bold\">0</span>,\n",
       "    <span style=\"color: #008000; text-decoration-color: #008000\">'active_dual'</span>: <span style=\"color: #008080; text-decoration-color: #008080; font-weight: bold\">0</span>,\n",
       "    <span style=\"color: #008000; text-decoration-color: #008000\">'modality'</span>: <span style=\"color: #008080; text-decoration-color: #008080; font-weight: bold\">0</span>,\n",
       "    <span style=\"color: #008000; text-decoration-color: #008000\">'pow_registration_allowed'</span>: <span style=\"color: #ff0000; text-decoration-color: #ff0000; font-style: italic\">False</span>,\n",
       "    <span style=\"color: #008000; text-decoration-color: #008000\">'emission'</span>: <span style=\"color: #008000; text-decoration-color: #008000\">'0'</span>,\n",
       "    <span style=\"color: #008000; text-decoration-color: #008000\">'rho'</span>: <span style=\"color: #008080; text-decoration-color: #008080; font-weight: bold\">10</span>,\n",
       "    <span style=\"color: #008000; text-decoration-color: #008000\">'kappa'</span>: <span style=\"color: #008080; text-decoration-color: #008080; font-weight: bold\">32767</span>,\n",
       "    <span style=\"color: #008000; text-decoration-color: #008000\">'immunity_period'</span>: <span style=\"color: #008080; text-decoration-color: #008080; font-weight: bold\">5000</span>,\n",
       "    <span style=\"color: #008000; text-decoration-color: #008000\">'min_allowed_weights'</span>: <span style=\"color: #008080; text-decoration-color: #008080; font-weight: bold\">1</span>,\n",
       "    <span style=\"color: #008000; text-decoration-color: #008000\">'max_weights_limit'</span>: <span style=\"color: #008080; text-decoration-color: #008080; font-weight: bold\">65535</span>,\n",
       "    <span style=\"color: #008000; text-decoration-color: #008000\">'tempo'</span>: <span style=\"color: #008080; text-decoration-color: #008080; font-weight: bold\">360</span>,\n",
       "    <span style=\"color: #008000; text-decoration-color: #008000\">'min_difficulty'</span>: <span style=\"color: #008000; text-decoration-color: #008000\">'18446744073709551615'</span>,\n",
       "    <span style=\"color: #008000; text-decoration-color: #008000\">'max_difficulty'</span>: <span style=\"color: #008000; text-decoration-color: #008000\">'18446744073709551615'</span>,\n",
       "    <span style=\"color: #008000; text-decoration-color: #008000\">'weights_version'</span>: <span style=\"color: #008000; text-decoration-color: #008000\">'0'</span>,\n",
       "    <span style=\"color: #008000; text-decoration-color: #008000\">'weights_rate_limit'</span>: <span style=\"color: #008000; text-decoration-color: #008000\">'100'</span>,\n",
       "    <span style=\"color: #008000; text-decoration-color: #008000\">'adjustment_interval'</span>: <span style=\"color: #008080; text-decoration-color: #008080; font-weight: bold\">360</span>,\n",
       "    <span style=\"color: #008000; text-decoration-color: #008000\">'activity_cutoff'</span>: <span style=\"color: #008080; text-decoration-color: #008080; font-weight: bold\">5000</span>,\n",
       "    <span style=\"color: #008000; text-decoration-color: #008000\">'registration_allowed'</span>: <span style=\"color: #00ff00; text-decoration-color: #00ff00; font-style: italic\">True</span>,\n",
       "    <span style=\"color: #008000; text-decoration-color: #008000\">'target_regs_per_interval'</span>: <span style=\"color: #008080; text-decoration-color: #008080; font-weight: bold\">1</span>,\n",
       "    <span style=\"color: #008000; text-decoration-color: #008000\">'min_burn'</span>: <span style=\"color: #008000; text-decoration-color: #008000\">'1'</span>,\n",
       "    <span style=\"color: #008000; text-decoration-color: #008000\">'max_burn'</span>: <span style=\"color: #008000; text-decoration-color: #008000\">'100000000000'</span>,\n",
       "    <span style=\"color: #008000; text-decoration-color: #008000\">'bonds_moving_avg'</span>: <span style=\"color: #008000; text-decoration-color: #008000\">'900000'</span>,\n",
       "    <span style=\"color: #008000; text-decoration-color: #008000\">'max_regs_per_block'</span>: <span style=\"color: #008080; text-decoration-color: #008080; font-weight: bold\">1</span>,\n",
       "    <span style=\"color: #008000; text-decoration-color: #008000\">'serving_rate_limit'</span>: <span style=\"color: #008000; text-decoration-color: #008000\">'50'</span>,\n",
       "    <span style=\"color: #008000; text-decoration-color: #008000\">'max_validators'</span>: <span style=\"color: #008080; text-decoration-color: #008080; font-weight: bold\">64</span>,\n",
       "    <span style=\"color: #008000; text-decoration-color: #008000\">'adjustment_alpha'</span>: <span style=\"color: #008000; text-decoration-color: #008000\">'17893341751498265066'</span>,\n",
       "    <span style=\"color: #008000; text-decoration-color: #008000\">'difficulty'</span>: <span style=\"color: #008000; text-decoration-color: #008000\">'18446744073709551615'</span>,\n",
       "    <span style=\"color: #008000; text-decoration-color: #008000\">'last_adjustment_block'</span>: <span style=\"color: #008080; text-decoration-color: #008080; font-weight: bold\">4517050</span>,\n",
       "    <span style=\"color: #008000; text-decoration-color: #008000\">'blocks_since_last_step'</span>: <span style=\"color: #008080; text-decoration-color: #008080; font-weight: bold\">351</span>,\n",
       "    <span style=\"color: #008000; text-decoration-color: #008000\">'blocks_until_next_epoch'</span>: <span style=\"color: #008080; text-decoration-color: #008080; font-weight: bold\">9</span>,\n",
       "    <span style=\"color: #008000; text-decoration-color: #008000\">'blocks_until_next_adjustment'</span>: <span style=\"color: #008080; text-decoration-color: #008080; font-weight: bold\">292</span>,\n",
       "    <span style=\"color: #008000; text-decoration-color: #008000\">'recycled_lifetime'</span>: <span style=\"color: #008000; text-decoration-color: #008000\">'3505785189'</span>,\n",
       "    <span style=\"color: #008000; text-decoration-color: #008000\">'recycled_24_hours'</span>: <span style=\"color: #008000; text-decoration-color: #008000\">'580341598'</span>,\n",
       "    <span style=\"color: #008000; text-decoration-color: #008000\">'recycled_since_registration'</span>: <span style=\"color: #008000; text-decoration-color: #008000\">'3505785189'</span>,\n",
       "    <span style=\"color: #008000; text-decoration-color: #008000\">'liquid_alpha_enabled'</span>: <span style=\"color: #ff0000; text-decoration-color: #ff0000; font-style: italic\">False</span>,\n",
       "    <span style=\"color: #008000; text-decoration-color: #008000\">'alpha_high'</span>: <span style=\"color: #008000; text-decoration-color: #008000\">'0.90000762951094834821'</span>,\n",
       "    <span style=\"color: #008000; text-decoration-color: #008000\">'alpha_low'</span>: <span style=\"color: #008000; text-decoration-color: #008000\">'0.70000762951094834821'</span>,\n",
       "    <span style=\"color: #008000; text-decoration-color: #008000\">'commit_reveal_weights_interval'</span>: <span style=\"color: #008080; text-decoration-color: #008080; font-weight: bold\">1</span>,\n",
       "    <span style=\"color: #008000; text-decoration-color: #008000\">'commit_reveal_weights_enabled'</span>: <span style=\"color: #ff0000; text-decoration-color: #ff0000; font-style: italic\">False</span>\n",
       "<span style=\"font-weight: bold\">}</span>\n",
       "</pre>\n"
      ],
      "text/plain": [
       "\u001b[1m{\u001b[0m\n",
       "    \u001b[32m'block_number'\u001b[0m: \u001b[1;36m4517118\u001b[0m,\n",
       "    \u001b[32m'timestamp'\u001b[0m: \u001b[32m'2024-12-19T17:37:48Z'\u001b[0m,\n",
       "    \u001b[32m'netuid'\u001b[0m: \u001b[1;36m63\u001b[0m,\n",
       "    \u001b[32m'owner'\u001b[0m: \u001b[1m{\u001b[0m\n",
       "        \u001b[32m'ss58'\u001b[0m: \u001b[32m'5DM3b6Ug3aVeWVktv4unNM2HyQVS2uKagdK5NZxbBV8GsRKR'\u001b[0m,\n",
       "        \u001b[32m'hex'\u001b[0m: \u001b[32m'0x38b29500cebbf08d5d9649a187c2d9efd2cc1f78081fa6860e6b86ab0d93312c'\u001b[0m\n",
       "    \u001b[1m}\u001b[0m,\n",
       "    \u001b[32m'registration_block_number'\u001b[0m: \u001b[1;36m4503009\u001b[0m,\n",
       "    \u001b[32m'registration_timestamp'\u001b[0m: \u001b[32m'2024-12-17T18:33:24.001Z'\u001b[0m,\n",
       "    \u001b[32m'registration_cost'\u001b[0m: \u001b[32m'4124855455904'\u001b[0m,\n",
       "    \u001b[32m'neuron_registration_cost'\u001b[0m: \u001b[32m'580341598'\u001b[0m,\n",
       "    \u001b[32m'max_neurons'\u001b[0m: \u001b[1;36m256\u001b[0m,\n",
       "    \u001b[32m'neuron_registrations_this_interval'\u001b[0m: \u001b[1;36m0\u001b[0m,\n",
       "    \u001b[32m'active_keys'\u001b[0m: \u001b[1;36m4\u001b[0m,\n",
       "    \u001b[32m'validators'\u001b[0m: \u001b[1;36m0\u001b[0m,\n",
       "    \u001b[32m'active_validators'\u001b[0m: \u001b[1;36m0\u001b[0m,\n",
       "    \u001b[32m'active_miners'\u001b[0m: \u001b[1;36m0\u001b[0m,\n",
       "    \u001b[32m'active_dual'\u001b[0m: \u001b[1;36m0\u001b[0m,\n",
       "    \u001b[32m'modality'\u001b[0m: \u001b[1;36m0\u001b[0m,\n",
       "    \u001b[32m'pow_registration_allowed'\u001b[0m: \u001b[3;91mFalse\u001b[0m,\n",
       "    \u001b[32m'emission'\u001b[0m: \u001b[32m'0'\u001b[0m,\n",
       "    \u001b[32m'rho'\u001b[0m: \u001b[1;36m10\u001b[0m,\n",
       "    \u001b[32m'kappa'\u001b[0m: \u001b[1;36m32767\u001b[0m,\n",
       "    \u001b[32m'immunity_period'\u001b[0m: \u001b[1;36m5000\u001b[0m,\n",
       "    \u001b[32m'min_allowed_weights'\u001b[0m: \u001b[1;36m1\u001b[0m,\n",
       "    \u001b[32m'max_weights_limit'\u001b[0m: \u001b[1;36m65535\u001b[0m,\n",
       "    \u001b[32m'tempo'\u001b[0m: \u001b[1;36m360\u001b[0m,\n",
       "    \u001b[32m'min_difficulty'\u001b[0m: \u001b[32m'18446744073709551615'\u001b[0m,\n",
       "    \u001b[32m'max_difficulty'\u001b[0m: \u001b[32m'18446744073709551615'\u001b[0m,\n",
       "    \u001b[32m'weights_version'\u001b[0m: \u001b[32m'0'\u001b[0m,\n",
       "    \u001b[32m'weights_rate_limit'\u001b[0m: \u001b[32m'100'\u001b[0m,\n",
       "    \u001b[32m'adjustment_interval'\u001b[0m: \u001b[1;36m360\u001b[0m,\n",
       "    \u001b[32m'activity_cutoff'\u001b[0m: \u001b[1;36m5000\u001b[0m,\n",
       "    \u001b[32m'registration_allowed'\u001b[0m: \u001b[3;92mTrue\u001b[0m,\n",
       "    \u001b[32m'target_regs_per_interval'\u001b[0m: \u001b[1;36m1\u001b[0m,\n",
       "    \u001b[32m'min_burn'\u001b[0m: \u001b[32m'1'\u001b[0m,\n",
       "    \u001b[32m'max_burn'\u001b[0m: \u001b[32m'100000000000'\u001b[0m,\n",
       "    \u001b[32m'bonds_moving_avg'\u001b[0m: \u001b[32m'900000'\u001b[0m,\n",
       "    \u001b[32m'max_regs_per_block'\u001b[0m: \u001b[1;36m1\u001b[0m,\n",
       "    \u001b[32m'serving_rate_limit'\u001b[0m: \u001b[32m'50'\u001b[0m,\n",
       "    \u001b[32m'max_validators'\u001b[0m: \u001b[1;36m64\u001b[0m,\n",
       "    \u001b[32m'adjustment_alpha'\u001b[0m: \u001b[32m'17893341751498265066'\u001b[0m,\n",
       "    \u001b[32m'difficulty'\u001b[0m: \u001b[32m'18446744073709551615'\u001b[0m,\n",
       "    \u001b[32m'last_adjustment_block'\u001b[0m: \u001b[1;36m4517050\u001b[0m,\n",
       "    \u001b[32m'blocks_since_last_step'\u001b[0m: \u001b[1;36m351\u001b[0m,\n",
       "    \u001b[32m'blocks_until_next_epoch'\u001b[0m: \u001b[1;36m9\u001b[0m,\n",
       "    \u001b[32m'blocks_until_next_adjustment'\u001b[0m: \u001b[1;36m292\u001b[0m,\n",
       "    \u001b[32m'recycled_lifetime'\u001b[0m: \u001b[32m'3505785189'\u001b[0m,\n",
       "    \u001b[32m'recycled_24_hours'\u001b[0m: \u001b[32m'580341598'\u001b[0m,\n",
       "    \u001b[32m'recycled_since_registration'\u001b[0m: \u001b[32m'3505785189'\u001b[0m,\n",
       "    \u001b[32m'liquid_alpha_enabled'\u001b[0m: \u001b[3;91mFalse\u001b[0m,\n",
       "    \u001b[32m'alpha_high'\u001b[0m: \u001b[32m'0.90000762951094834821'\u001b[0m,\n",
       "    \u001b[32m'alpha_low'\u001b[0m: \u001b[32m'0.70000762951094834821'\u001b[0m,\n",
       "    \u001b[32m'commit_reveal_weights_interval'\u001b[0m: \u001b[1;36m1\u001b[0m,\n",
       "    \u001b[32m'commit_reveal_weights_enabled'\u001b[0m: \u001b[3;91mFalse\u001b[0m\n",
       "\u001b[1m}\u001b[0m\n"
      ]
     },
     "metadata": {},
     "output_type": "display_data"
    }
   ],
   "source": [
    "print(subnet)"
   ]
  },
  {
   "cell_type": "code",
   "execution_count": null,
   "id": "985004b7-974d-4e09-8e67-bd4dc5dad76f",
   "metadata": {},
   "outputs": [],
   "source": []
  }
 ],
 "metadata": {
  "kernelspec": {
   "display_name": "Python 3 (ipykernel)",
   "language": "python",
   "name": "python3"
  },
  "language_info": {
   "codemirror_mode": {
    "name": "ipython",
    "version": 3
   },
   "file_extension": ".py",
   "mimetype": "text/x-python",
   "name": "python",
   "nbconvert_exporter": "python",
   "pygments_lexer": "ipython3",
   "version": "3.12.5"
  }
 },
 "nbformat": 4,
 "nbformat_minor": 5
}
