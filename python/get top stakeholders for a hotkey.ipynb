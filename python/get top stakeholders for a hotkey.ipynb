{
 "cells": [
  {
   "cell_type": "code",
   "execution_count": 1,
   "id": "82225208-d2fa-459e-b83f-f40b516c9997",
   "metadata": {},
   "outputs": [],
   "source": [
    "#get the top 200 stakers for a specific hotkey\n",
    "\n",
    "\n",
    "import requests, json\n",
    "import os\n",
    "from dotenv import load_dotenv\n",
    "\n",
    "import pandas as pd\n",
    "import numpy as np\n",
    "import decimal\n",
    "import time\n",
    "from datetime import datetime, timedelta\n",
    "from rich import print\n",
    "import matplotlib.pyplot as plt\n",
    "\n",
    "\n",
    "# Load environment variables from .env file\n",
    "load_dotenv()\n",
    "\n",
    "api_key= os.getenv('taostats_api')\n",
    "\n",
    "headers = {\n",
    "            \"accept\": \"application/json\",\n",
    "            \"Authorization\": api_key\n",
    "        }"
   ]
  },
  {
   "cell_type": "code",
   "execution_count": 5,
   "id": "9b7c6566-e03d-4f33-bc4e-7b2de408d149",
   "metadata": {},
   "outputs": [
    {
     "data": {
      "text/html": [
       "<pre style=\"white-space:pre;overflow-x:auto;line-height:normal;font-family:Menlo,'DejaVu Sans Mono',consolas,'Courier New',monospace\">5HimL4JEdq9YVvUNiwMgJRAjEVFXkV2jMzy6ENiEn8TivMdL <span style=\"color: #008080; text-decoration-color: #008080; font-weight: bold\">2586.538542466</span>\n",
       "</pre>\n"
      ],
      "text/plain": [
       "5HimL4JEdq9YVvUNiwMgJRAjEVFXkV2jMzy6ENiEn8TivMdL \u001b[1;36m2586.538542466\u001b[0m\n"
      ]
     },
     "metadata": {},
     "output_type": "display_data"
    },
    {
     "data": {
      "text/html": [
       "<pre style=\"white-space:pre;overflow-x:auto;line-height:normal;font-family:Menlo,'DejaVu Sans Mono',consolas,'Courier New',monospace\">5HCFWvRqzSHWRPecN7q8J6c7aKQnrCZTMHstPv39xL1wgDHh <span style=\"color: #008080; text-decoration-color: #008080; font-weight: bold\">1637.9583402</span>\n",
       "</pre>\n"
      ],
      "text/plain": [
       "5HCFWvRqzSHWRPecN7q8J6c7aKQnrCZTMHstPv39xL1wgDHh \u001b[1;36m1637.9583402\u001b[0m\n"
      ]
     },
     "metadata": {},
     "output_type": "display_data"
    },
    {
     "data": {
      "text/html": [
       "<pre style=\"white-space:pre;overflow-x:auto;line-height:normal;font-family:Menlo,'DejaVu Sans Mono',consolas,'Courier New',monospace\">5HpPtgaLEu7eUrKvzDfHM45uQHNw5koutE6jFDPPNi4manwq <span style=\"color: #008080; text-decoration-color: #008080; font-weight: bold\">205.638023481</span>\n",
       "</pre>\n"
      ],
      "text/plain": [
       "5HpPtgaLEu7eUrKvzDfHM45uQHNw5koutE6jFDPPNi4manwq \u001b[1;36m205.638023481\u001b[0m\n"
      ]
     },
     "metadata": {},
     "output_type": "display_data"
    },
    {
     "data": {
      "text/html": [
       "<pre style=\"white-space:pre;overflow-x:auto;line-height:normal;font-family:Menlo,'DejaVu Sans Mono',consolas,'Courier New',monospace\">5Gzde1CYaki2hyzdMianKBLtzxDkWvF7fb3H61fsxSfKcxVm <span style=\"color: #008080; text-decoration-color: #008080; font-weight: bold\">52.952109846</span>\n",
       "</pre>\n"
      ],
      "text/plain": [
       "5Gzde1CYaki2hyzdMianKBLtzxDkWvF7fb3H61fsxSfKcxVm \u001b[1;36m52.952109846\u001b[0m\n"
      ]
     },
     "metadata": {},
     "output_type": "display_data"
    },
    {
     "data": {
      "text/html": [
       "<pre style=\"white-space:pre;overflow-x:auto;line-height:normal;font-family:Menlo,'DejaVu Sans Mono',consolas,'Courier New',monospace\">5H6mMCgP7a29xTMUD3LUs9cXpGjokfSCG3n643HGm2uT23MZ <span style=\"color: #008080; text-decoration-color: #008080; font-weight: bold\">4.115510179</span>\n",
       "</pre>\n"
      ],
      "text/plain": [
       "5H6mMCgP7a29xTMUD3LUs9cXpGjokfSCG3n643HGm2uT23MZ \u001b[1;36m4.115510179\u001b[0m\n"
      ]
     },
     "metadata": {},
     "output_type": "display_data"
    },
    {
     "data": {
      "text/html": [
       "<pre style=\"white-space:pre;overflow-x:auto;line-height:normal;font-family:Menlo,'DejaVu Sans Mono',consolas,'Courier New',monospace\">5CVUNvEWqMc8oYBTSABBdsPTPneXm8kx3LYFVDbEhJLNBGRH <span style=\"color: #008080; text-decoration-color: #008080; font-weight: bold\">3.707497606</span>\n",
       "</pre>\n"
      ],
      "text/plain": [
       "5CVUNvEWqMc8oYBTSABBdsPTPneXm8kx3LYFVDbEhJLNBGRH \u001b[1;36m3.707497606\u001b[0m\n"
      ]
     },
     "metadata": {},
     "output_type": "display_data"
    }
   ],
   "source": [
    "import requests\n",
    "hotkey = '5HCFWvRqzSHWRPecN7q8J6c7aKQnrCZTMHstPv39xL1wgDHh'\n",
    "netuid = 1\n",
    "url = f\"https://api.taostats.io/api/dtao/stake_balance/latest/v1?hotkey={hotkey}&netuid={netuid}&limit=200&order=balance_desc\"\n",
    "\n",
    "response = requests.get(url, headers=headers)\n",
    "\n",
    "resJson = json.loads(response.text)\n",
    "stakers = resJson['data']\n",
    "for staker in stakers:\n",
    "    ck = staker['coldkey']['ss58']\n",
    "    balance = float(staker['balance'])/1e9\n",
    "    print(ck, balance)"
   ]
  },
  {
   "cell_type": "code",
   "execution_count": null,
   "id": "840538c1-2c64-4db6-98dc-64fc3a67ab60",
   "metadata": {},
   "outputs": [],
   "source": []
  }
 ],
 "metadata": {
  "kernelspec": {
   "display_name": "Python 3 (ipykernel)",
   "language": "python",
   "name": "python3"
  },
  "language_info": {
   "codemirror_mode": {
    "name": "ipython",
    "version": 3
   },
   "file_extension": ".py",
   "mimetype": "text/x-python",
   "name": "python",
   "nbconvert_exporter": "python",
   "pygments_lexer": "ipython3",
   "version": "3.12.5"
  }
 },
 "nbformat": 4,
 "nbformat_minor": 5
}
