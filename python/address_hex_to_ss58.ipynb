{
 "cells": [
  {
   "cell_type": "code",
   "execution_count": 1,
   "id": "7cd01377-b48b-4bfb-9ab6-ea84983a3904",
   "metadata": {},
   "outputs": [
    {
     "name": "stdout",
     "output_type": "stream",
     "text": [
      "SS58 Address: 5DkgPz2gNhaTLvUzVKyGyv8r6jSE9GuYDsZfcHQyFMqKCnPT\n"
     ]
    }
   ],
   "source": [
    "from substrateinterface.utils.ss58 import ss58_encode\n",
    "\n",
    "def hex_to_ss58(hex_address, ss58_format=42):\n",
    "    \"\"\"\n",
    "    Convert a hexadecimal Substrate address to an SS58 address.\n",
    "    \n",
    "    :param hex_address: Hexadecimal address as a string (e.g., '0x...')\n",
    "    :param ss58_format: SS58 format (default is 42 for Substrate)\n",
    "    :return: SS58 encoded address as a string\n",
    "    \"\"\"\n",
    "    if hex_address.startswith(\"0x\"):\n",
    "        hex_address = hex_address[2:]  # Remove the '0x' prefix if present\n",
    "\n",
    "    # Convert hex string to bytes\n",
    "    address_bytes = bytes.fromhex(hex_address)\n",
    "    \n",
    "    # Encode to SS58 format\n",
    "    return ss58_encode(address_bytes, ss58_format)\n",
    "\n",
    "# Example usage\n",
    "hex_address = \"0x4ab922726263a0f9b92b0203b89faf398e9ab8f53506118d87c76ab390a7932e\"\n",
    "ss58_address = hex_to_ss58(hex_address)\n",
    "print(\"SS58 Address:\", ss58_address)"
   ]
  },
  {
   "cell_type": "code",
   "execution_count": null,
   "id": "e768a055-512b-4019-9a87-61bf09a58927",
   "metadata": {},
   "outputs": [],
   "source": []
  }
 ],
 "metadata": {
  "kernelspec": {
   "display_name": "Python 3 (ipykernel)",
   "language": "python",
   "name": "python3"
  },
  "language_info": {
   "codemirror_mode": {
    "name": "ipython",
    "version": 3
   },
   "file_extension": ".py",
   "mimetype": "text/x-python",
   "name": "python",
   "nbconvert_exporter": "python",
   "pygments_lexer": "ipython3",
   "version": "3.11.5"
  }
 },
 "nbformat": 4,
 "nbformat_minor": 5
}
