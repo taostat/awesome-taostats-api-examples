{
 "cells": [
  {
   "cell_type": "code",
   "execution_count": 1,
   "id": "32dd5680-2980-4556-8acc-22d2496c4abb",
   "metadata": {},
   "outputs": [],
   "source": [
    "import requests, json\n",
    "import pandas as pd\n",
    "import numpy as np\n",
    "import decimal\n",
    "import time\n",
    "from datetime import datetime, timedelta\n",
    "from rich import print\n",
    "import os\n",
    "from dotenv import load_dotenv\n",
    "import matplotlib.pyplot as plt\n",
    "\n",
    "# Load environment variables from .env file\n",
    "load_dotenv()\n",
    "\n",
    "api_key= os.getenv('taostats_api')\n",
    "\n",
    "headers = {\n",
    "            \"accept\": \"application/json\",\n",
    "            \"Authorization\": api_key\n",
    "        }\n"
   ]
  },
  {
   "cell_type": "code",
   "execution_count": 5,
   "id": "040ffb11-4cb9-4e40-8cde-f60e76ffcb2e",
   "metadata": {},
   "outputs": [
    {
     "data": {
      "text/html": [
       "<pre style=\"white-space:pre;overflow-x:auto;line-height:normal;font-family:Menlo,'DejaVu Sans Mono',consolas,'Courier New',monospace\"><span style=\"color: #008080; text-decoration-color: #008080; font-weight: bold\">274470.737081305</span>\n",
       "</pre>\n"
      ],
      "text/plain": [
       "\u001b[1;36m274470.737081305\u001b[0m\n"
      ]
     },
     "metadata": {},
     "output_type": "display_data"
    },
    {
     "data": {
      "text/html": [
       "<pre style=\"white-space:pre;overflow-x:auto;line-height:normal;font-family:Menlo,'DejaVu Sans Mono',consolas,'Courier New',monospace\"><span style=\"color: #008080; text-decoration-color: #008080; font-weight: bold\">434418.269097855</span>\n",
       "</pre>\n"
      ],
      "text/plain": [
       "\u001b[1;36m434418.269097855\u001b[0m\n"
      ]
     },
     "metadata": {},
     "output_type": "display_data"
    },
    {
     "data": {
      "text/html": [
       "<pre style=\"white-space:pre;overflow-x:auto;line-height:normal;font-family:Menlo,'DejaVu Sans Mono',consolas,'Courier New',monospace\"><span style=\"color: #008080; text-decoration-color: #008080; font-weight: bold\">159947.53201655</span>\n",
       "</pre>\n"
      ],
      "text/plain": [
       "\u001b[1;36m159947.53201655\u001b[0m\n"
      ]
     },
     "metadata": {},
     "output_type": "display_data"
    },
    {
     "data": {
      "text/html": [
       "<pre style=\"white-space:pre;overflow-x:auto;line-height:normal;font-family:Menlo,'DejaVu Sans Mono',consolas,'Courier New',monospace\"><span style=\"color: #008080; text-decoration-color: #008080; font-weight: bold\">0.0038562452493996397</span>\n",
       "</pre>\n"
      ],
      "text/plain": [
       "\u001b[1;36m0.0038562452493996397\u001b[0m\n"
      ]
     },
     "metadata": {},
     "output_type": "display_data"
    }
   ],
   "source": [
    "#alpha in pool\n",
    "netuid = 33\n",
    "url = f\"https://api.taostats.io/api/dtao/pool/latest/v1?netuid={netuid}&page=1\"\n",
    "response = requests.get(url, headers=headers)\n",
    "resJson = json.loads(response.text)\n",
    "api_total_alpha = float(resJson['data'][0]['total_alpha'])/1e9\n",
    "alpha_in_pool = float(resJson['data'][0]['alpha_in_pool'])/1e9\n",
    "api_alpha_staked = float(resJson['data'][0]['alpha_staked'])/1e9\n",
    "alpha_price =float(resJson['data'][0]['price'])\n",
    "print(alpha_in_pool)\n",
    "print(api_total_alpha)\n",
    "print(api_alpha_staked)\n",
    "print(alpha_price)"
   ]
  },
  {
   "cell_type": "code",
   "execution_count": 6,
   "id": "9052cba3-3378-48e3-8068-bcf6406bd7b4",
   "metadata": {},
   "outputs": [
    {
     "data": {
      "text/html": [
       "<pre style=\"white-space:pre;overflow-x:auto;line-height:normal;font-family:Menlo,'DejaVu Sans Mono',consolas,'Courier New',monospace\"><span style=\"color: #008080; text-decoration-color: #008080; font-weight: bold\">5169846</span>\n",
       "</pre>\n"
      ],
      "text/plain": [
       "\u001b[1;36m5169846\u001b[0m\n"
      ]
     },
     "metadata": {},
     "output_type": "display_data"
    }
   ],
   "source": [
    "###bens appraoch to get alpha per epoch\n",
    "taostats = \"5GKH9FPPnWSUoeeTJp19wVtd84XqFW4pyK2ijV2GsFbhTrP1\"\n",
    "\n",
    "#get one response to get the block number\n",
    "url = f\"https://api.taostats.io/api/dtao/hotkey_emission/v1?hotkey={taostats}&netuid={netuid}\"\n",
    "response = requests.get(url, headers=headers)\n",
    "resJson = json.loads(response.text)\n",
    "#get block number\n",
    "block_number = resJson['data'][0]['block_number']\n",
    "print(block_number)"
   ]
  },
  {
   "cell_type": "code",
   "execution_count": 7,
   "id": "6bbb4c5e-14d5-4608-8d1a-be46f8f528d4",
   "metadata": {},
   "outputs": [
    {
     "data": {
      "text/html": [
       "<pre style=\"white-space:pre;overflow-x:auto;line-height:normal;font-family:Menlo,'DejaVu Sans Mono',consolas,'Courier New',monospace\"><span style=\"color: #008080; text-decoration-color: #008080; font-weight: bold\">200</span>\n",
       "</pre>\n"
      ],
      "text/plain": [
       "\u001b[1;36m200\u001b[0m\n"
      ]
     },
     "metadata": {},
     "output_type": "display_data"
    },
    {
     "data": {
      "text/html": [
       "<pre style=\"white-space:pre;overflow-x:auto;line-height:normal;font-family:Menlo,'DejaVu Sans Mono',consolas,'Courier New',monospace\"><span style=\"font-weight: bold\">{</span>\n",
       "    <span style=\"color: #008000; text-decoration-color: #008000\">'block_number'</span>: <span style=\"color: #008080; text-decoration-color: #008080; font-weight: bold\">5169846</span>,\n",
       "    <span style=\"color: #008000; text-decoration-color: #008000\">'timestamp'</span>: <span style=\"color: #008000; text-decoration-color: #008000\">'2025-03-20T13:22:48.001Z'</span>,\n",
       "    <span style=\"color: #008000; text-decoration-color: #008000\">'netuid'</span>: <span style=\"color: #008080; text-decoration-color: #008080; font-weight: bold\">33</span>,\n",
       "    <span style=\"color: #008000; text-decoration-color: #008000\">'hotkey'</span>: <span style=\"font-weight: bold\">{</span>\n",
       "        <span style=\"color: #008000; text-decoration-color: #008000\">'ss58'</span>: <span style=\"color: #008000; text-decoration-color: #008000\">'5GQyFzvtVMw9X45t6dvUFgR9unFpDCccPPCiAoqJrtPuC8my'</span>,\n",
       "        <span style=\"color: #008000; text-decoration-color: #008000\">'hex'</span>: <span style=\"color: #008000; text-decoration-color: #008000\">'0xc065b0c58caa8513e462626b8ffa894eda31c213fc71fb6a7beae5bdfff39149'</span>\n",
       "    <span style=\"font-weight: bold\">}</span>,\n",
       "    <span style=\"color: #008000; text-decoration-color: #008000\">'emission'</span>: <span style=\"color: #008000; text-decoration-color: #008000\">'5071497717'</span>,\n",
       "    <span style=\"color: #008000; text-decoration-color: #008000\">'root_emission'</span>: <span style=\"color: #008000; text-decoration-color: #008000\">'0'</span>\n",
       "<span style=\"font-weight: bold\">}</span>\n",
       "</pre>\n"
      ],
      "text/plain": [
       "\u001b[1m{\u001b[0m\n",
       "    \u001b[32m'block_number'\u001b[0m: \u001b[1;36m5169846\u001b[0m,\n",
       "    \u001b[32m'timestamp'\u001b[0m: \u001b[32m'2025-03-20T13:22:48.001Z'\u001b[0m,\n",
       "    \u001b[32m'netuid'\u001b[0m: \u001b[1;36m33\u001b[0m,\n",
       "    \u001b[32m'hotkey'\u001b[0m: \u001b[1m{\u001b[0m\n",
       "        \u001b[32m'ss58'\u001b[0m: \u001b[32m'5GQyFzvtVMw9X45t6dvUFgR9unFpDCccPPCiAoqJrtPuC8my'\u001b[0m,\n",
       "        \u001b[32m'hex'\u001b[0m: \u001b[32m'0xc065b0c58caa8513e462626b8ffa894eda31c213fc71fb6a7beae5bdfff39149'\u001b[0m\n",
       "    \u001b[1m}\u001b[0m,\n",
       "    \u001b[32m'emission'\u001b[0m: \u001b[32m'5071497717'\u001b[0m,\n",
       "    \u001b[32m'root_emission'\u001b[0m: \u001b[32m'0'\u001b[0m\n",
       "\u001b[1m}\u001b[0m\n"
      ]
     },
     "metadata": {},
     "output_type": "display_data"
    }
   ],
   "source": [
    "## get alpha fpr all valis on that epoch block\n",
    "page =1\n",
    "\n",
    "\n",
    "url = f\"https://api.taostats.io/api/dtao/hotkey_emission/v1?block_number={block_number}&netuid={netuid}&limit=200&order=emission_desc\"\n",
    "response = requests.get(url, headers=headers)\n",
    "resJson = json.loads(response.text)\n",
    "valis = resJson['data']\n",
    "print(len(valis))\n",
    "print(valis[0])"
   ]
  },
  {
   "cell_type": "code",
   "execution_count": 8,
   "id": "997c38a9-9a34-4c1a-9310-4ad850d31493",
   "metadata": {},
   "outputs": [
    {
     "data": {
      "text/html": [
       "<pre style=\"white-space:pre;overflow-x:auto;line-height:normal;font-family:Menlo,'DejaVu Sans Mono',consolas,'Courier New',monospace\">root as tao <span style=\"color: #008080; text-decoration-color: #008080; font-weight: bold\">0.362415914</span> <span style=\"color: #008080; text-decoration-color: #008080; font-weight: bold\">7.24831828</span>\n",
       "</pre>\n"
      ],
      "text/plain": [
       "root as tao \u001b[1;36m0.362415914\u001b[0m \u001b[1;36m7.24831828\u001b[0m\n"
      ]
     },
     "metadata": {},
     "output_type": "display_data"
    },
    {
     "data": {
      "text/html": [
       "<pre style=\"white-space:pre;overflow-x:auto;line-height:normal;font-family:Menlo,'DejaVu Sans Mono',consolas,'Courier New',monospace\">root as alpha <span style=\"color: #008080; text-decoration-color: #008080; font-weight: bold\">93.98155214749964</span> <span style=\"color: #008080; text-decoration-color: #008080; font-weight: bold\">1879.631042949993</span>\n",
       "</pre>\n"
      ],
      "text/plain": [
       "root as alpha \u001b[1;36m93.98155214749964\u001b[0m \u001b[1;36m1879.631042949993\u001b[0m\n"
      ]
     },
     "metadata": {},
     "output_type": "display_data"
    },
    {
     "data": {
      "text/html": [
       "<pre style=\"white-space:pre;overflow-x:auto;line-height:normal;font-family:Menlo,'DejaVu Sans Mono',consolas,'Courier New',monospace\">alpha to valis <span style=\"color: #008080; text-decoration-color: #008080; font-weight: bold\">16.811374821999998</span> <span style=\"color: #008080; text-decoration-color: #008080; font-weight: bold\">336.22749644</span>\n",
       "</pre>\n"
      ],
      "text/plain": [
       "alpha to valis \u001b[1;36m16.811374821999998\u001b[0m \u001b[1;36m336.22749644\u001b[0m\n"
      ]
     },
     "metadata": {},
     "output_type": "display_data"
    }
   ],
   "source": [
    "total_root =0\n",
    "total_alpha = 0\n",
    "\n",
    "for vali in valis:\n",
    "    emission = float(vali['emission'])/1e9\n",
    "    root_emission = float(vali['root_emission'])/1e9\n",
    "    total_root+= root_emission\n",
    "    total_alpha += emission\n",
    "\n",
    "print(\"root as tao\", total_root, total_root*20)\n",
    "print(\"root as alpha\", total_root/alpha_price, total_root*20/alpha_price)\n",
    "print(\"alpha to valis\", total_alpha, total_alpha*20)"
   ]
  },
  {
   "cell_type": "code",
   "execution_count": null,
   "id": "d4f47049-fbb7-41d8-a1a5-19d11fbabb31",
   "metadata": {},
   "outputs": [],
   "source": []
  }
 ],
 "metadata": {
  "kernelspec": {
   "display_name": "Python 3 (ipykernel)",
   "language": "python",
   "name": "python3"
  },
  "language_info": {
   "codemirror_mode": {
    "name": "ipython",
    "version": 3
   },
   "file_extension": ".py",
   "mimetype": "text/x-python",
   "name": "python",
   "nbconvert_exporter": "python",
   "pygments_lexer": "ipython3",
   "version": "3.12.5"
  }
 },
 "nbformat": 4,
 "nbformat_minor": 5
}
