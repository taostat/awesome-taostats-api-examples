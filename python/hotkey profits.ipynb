{
 "cells": [
  {
   "cell_type": "markdown",
   "id": "93bbdf99-b806-4c8a-8200-5830c7a636de",
   "metadata": {},
   "source": [
    "This notebook takes an array of coldkeys and finds the emission on every hotkey associated with the coldkey.\n",
    "This works for miners/validators and also stakeholders.\n",
    "\n",
    "1. ADd your API key in the next cell (get one at dash.taostats.io)\n",
    "2. choose your start and end dates in the format YYYY-MM-DD\n",
    "3. Create an array of coldkeys that you wish to track\n",
    "\n",
    "What happens:\n",
    "\n",
    "first cell - stup the urls\n",
    "2nd cell - silly date fixer - sometimes the chain adds MS, someties it does not :man shrugging:\n",
    "3rd cell - query the API to get the daily close price for tao for the date range\n",
    "4th: initialise the data\n",
    "5th: Get the dailye data for each coldkey. There is a slepp to prevent any API rate limiting (after a few price calls that might happen)\n",
    "6th: print one result\n",
    "7th: math the daiy change by comparing day over day balance changes.\n",
    "8th: get any registrations and caluclate those\n",
    "9 & 10 - create a JSON and CSV for the created data\n",
    "\n",
    "coldkey, hotkey, date, income, expense, price\n",
    "\n",
    "your CK, the HK associated, day, tao earned, tao spent, tao price in $\n",
    "\n",
    "the hotkey can be your miner, your validator.. if you are staking it is vthe hotkey of the validator you staked with.\n"
   ]
  },
  {
   "cell_type": "code",
   "execution_count": 63,
   "id": "e8b96c51-a885-4d9e-930a-d983926769f6",
   "metadata": {},
   "outputs": [],
   "source": [
    "import requests, json\n",
    "import pandas as pd\n",
    "import numpy as np\n",
    "import decimal\n",
    "import time\n",
    "from datetime import datetime, timedelta\n",
    "from rich import print\n",
    "\n",
    "\n",
    "api_key=\"\"\n",
    "start_date= \"2023-11-10\"\n",
    "end_date=\"2024-12-31\"\n",
    "networks = [\"finney\", \"nakamoto\", \"kusanagi\"]\n",
    "coldkeys =[\n",
    "\"5CA7zFakdjXtJRcz4gZ4MZaAwbEqDnW9WZeaqLRdTrejAs8w\"\n",
    "]\n",
    "\n",
    "# USD, GBP, EUR, etc\n",
    "currency = \"USD\"\n",
    "\n",
    "headers = {\n",
    "            \"accept\": \"application/json\",\n",
    "            \"Authorization\": api_key\n",
    "        }\n"
   ]
  },
  {
   "cell_type": "code",
   "execution_count": 64,
   "id": "fd74ff39-57f3-469a-b55f-383a98c12557",
   "metadata": {},
   "outputs": [],
   "source": [
    "#sometimes the chain spits out a time with milliseconds.. Sometimess it doesnt.  Its annoying.\n",
    "#this fixes it. returns a datetime object\n",
    "def stupid_time_fix(timestamp):\n",
    "    if len(timestamp) > 20:\n",
    "        date_obj = datetime.strptime(timestamp, \"%Y-%m-%dT%H:%M:%S.%fZ\")\n",
    "    else:\n",
    "        date_obj = datetime.strptime(timestamp, \"%Y-%m-%dT%H:%M:%SZ\")\n",
    "    \n",
    "    return date_obj"
   ]
  },
  {
   "cell_type": "code",
   "execution_count": 65,
   "id": "fddcd79e-b2d9-4280-97c2-ec320598bdcc",
   "metadata": {},
   "outputs": [
    {
     "data": {
      "text/html": [
       "<pre style=\"white-space:pre;overflow-x:auto;line-height:normal;font-family:Menlo,'DejaVu Sans Mono',consolas,'Courier New',monospace\"><span style=\"color: #008080; text-decoration-color: #008080; font-weight: bold\">1699592400</span> <span style=\"color: #008080; text-decoration-color: #008080; font-weight: bold\">1735621200</span>\n",
       "</pre>\n"
      ],
      "text/plain": [
       "\u001b[1;36m1699592400\u001b[0m \u001b[1;36m1735621200\u001b[0m\n"
      ]
     },
     "metadata": {},
     "output_type": "display_data"
    },
    {
     "data": {
      "text/html": [
       "<pre style=\"white-space:pre;overflow-x:auto;line-height:normal;font-family:Menlo,'DejaVu Sans Mono',consolas,'Courier New',monospace\"><span style=\"color: #008080; text-decoration-color: #008080; font-weight: bold\">417</span>\n",
       "</pre>\n"
      ],
      "text/plain": [
       "\u001b[1;36m417\u001b[0m\n"
      ]
     },
     "metadata": {},
     "output_type": "display_data"
    }
   ],
   "source": [
    "#get the close price of tao for every date in the range\n",
    "\n",
    "date_obj = datetime.strptime(start_date, \"%Y-%m-%d\")\n",
    "unix_start = int(date_obj.timestamp())\n",
    "date_obj = datetime.strptime(end_date, \"%Y-%m-%d\")\n",
    "unix_end = int(date_obj.timestamp())\n",
    "\n",
    "print(unix_start, unix_end)\n",
    "\n",
    "#get all the tao prices\n",
    "all_price_data = []\n",
    "\n",
    "next_page=1\n",
    "\n",
    "while next_page is not None:\n",
    "    price_url=f\"https://api.taostats.io/api/price/ohlc/v1?asset=tao&period=1d&timestamp_start={unix_start}&timestamp_end={unix_end}&limit=200&page={next_page}\"\n",
    "    response = requests.get(price_url, headers=headers)\n",
    "    #print(response.text)\n",
    "    resJson = json.loads(response.text)\n",
    "    next_page = resJson['pagination']['next_page']\n",
    "    all_price_data += resJson['data']\n",
    "\n",
    "print(len(all_price_data))\n",
    "date_price = {}\n",
    "for price in all_price_data:\n",
    "    pricetime  = stupid_time_fix(price['timestamp'])\n",
    "    date = pricetime.date()\n",
    "    date_str = date.strftime(\"%Y-%m-%d\")\n",
    "    close = price['close']\n",
    "    date_price[date_str]=close"
   ]
  },
  {
   "cell_type": "code",
   "execution_count": 66,
   "id": "9819aeb5-efc7-4902-83f6-637a659da16d",
   "metadata": {},
   "outputs": [],
   "source": [
    "#print(resJson)\n",
    "income_totals = {}\n",
    "daily_stake = {}\n",
    "stake_balances = []\n",
    "neuron_registrations = []"
   ]
  },
  {
   "cell_type": "code",
   "execution_count": 67,
   "id": "847097ad-4457-47f9-b435-3f4d3a108a0c",
   "metadata": {},
   "outputs": [
    {
     "data": {
      "text/html": [
       "<pre style=\"white-space:pre;overflow-x:auto;line-height:normal;font-family:Menlo,'DejaVu Sans Mono',consolas,'Courier New',monospace\">finney 5CA7zFakdjXtJRcz4gZ4MZaAwbEqDnW9WZeaqLRdTrejAs8w <span style=\"color: #008080; text-decoration-color: #008080; font-weight: bold\">5.985765807</span> <span style=\"color: #008080; text-decoration-color: #008080; font-weight: bold\">0.0</span>\n",
       "</pre>\n"
      ],
      "text/plain": [
       "finney 5CA7zFakdjXtJRcz4gZ4MZaAwbEqDnW9WZeaqLRdTrejAs8w \u001b[1;36m5.985765807\u001b[0m \u001b[1;36m0.0\u001b[0m\n"
      ]
     },
     "metadata": {},
     "output_type": "display_data"
    },
    {
     "data": {
      "text/html": [
       "<pre style=\"white-space:pre;overflow-x:auto;line-height:normal;font-family:Menlo,'DejaVu Sans Mono',consolas,'Courier New',monospace\">nakamoto 5CA7zFakdjXtJRcz4gZ4MZaAwbEqDnW9WZeaqLRdTrejAs8w <span style=\"color: #008080; text-decoration-color: #008080; font-weight: bold\">0.0</span> <span style=\"color: #008080; text-decoration-color: #008080; font-weight: bold\">0.0</span>\n",
       "</pre>\n"
      ],
      "text/plain": [
       "nakamoto 5CA7zFakdjXtJRcz4gZ4MZaAwbEqDnW9WZeaqLRdTrejAs8w \u001b[1;36m0.0\u001b[0m \u001b[1;36m0.0\u001b[0m\n"
      ]
     },
     "metadata": {},
     "output_type": "display_data"
    },
    {
     "data": {
      "text/html": [
       "<pre style=\"white-space:pre;overflow-x:auto;line-height:normal;font-family:Menlo,'DejaVu Sans Mono',consolas,'Courier New',monospace\">kusanagi 5CA7zFakdjXtJRcz4gZ4MZaAwbEqDnW9WZeaqLRdTrejAs8w <span style=\"color: #008080; text-decoration-color: #008080; font-weight: bold\">0.0</span> <span style=\"color: #008080; text-decoration-color: #008080; font-weight: bold\">0.0</span>\n",
       "</pre>\n"
      ],
      "text/plain": [
       "kusanagi 5CA7zFakdjXtJRcz4gZ4MZaAwbEqDnW9WZeaqLRdTrejAs8w \u001b[1;36m0.0\u001b[0m \u001b[1;36m0.0\u001b[0m\n"
      ]
     },
     "metadata": {},
     "output_type": "display_data"
    }
   ],
   "source": [
    "\n",
    "for coldkey in coldkeys:\n",
    "    for network in networks:\n",
    "        pages = 1\n",
    "        page =1\n",
    "    \n",
    "        url = f\"https://api.taostats.io/api/accounting/v1?network={network}&date_start={start_date}&date_end={end_date}&coldkey={coldkey}&page={page}\"\n",
    "        \n",
    "        response = requests.get(url, headers=headers)\n",
    "        #print(response.text)\n",
    "        resJson = json.loads(response.text)\n",
    "        income = float(resJson['data'][0]['income'])/1e9\n",
    "        reg_costs = float(resJson['data'][0]['neuron_registration_cost'])/1e9\n",
    "        pages = resJson['pagination']['total_pages']\n",
    "        print(network, coldkey, income, reg_costs)\n",
    "        stake_balances += resJson['data'][0]['stake_balances']\n",
    "        neuron_registrations  += resJson['data'][0]['neuron_registrations']\n",
    "        time.sleep(3)"
   ]
  },
  {
   "cell_type": "code",
   "execution_count": 68,
   "id": "db5e10e3-a44b-4626-ae5e-d8aa30dd4da0",
   "metadata": {},
   "outputs": [
    {
     "data": {
      "text/html": [
       "<pre style=\"white-space:pre;overflow-x:auto;line-height:normal;font-family:Menlo,'DejaVu Sans Mono',consolas,'Courier New',monospace\"><span style=\"font-weight: bold\">{</span>\n",
       "    <span style=\"color: #008000; text-decoration-color: #008000\">'block_number'</span>: <span style=\"color: #008080; text-decoration-color: #008080; font-weight: bold\">1754252</span>,\n",
       "    <span style=\"color: #008000; text-decoration-color: #008000\">'timestamp'</span>: <span style=\"color: #008000; text-decoration-color: #008000\">'2023-11-20T11:36:48Z'</span>,\n",
       "    <span style=\"color: #008000; text-decoration-color: #008000\">'hotkey'</span>: <span style=\"font-weight: bold\">{</span>\n",
       "        <span style=\"color: #008000; text-decoration-color: #008000\">'ss58'</span>: <span style=\"color: #008000; text-decoration-color: #008000\">'5F4tQyWrhfGVcNhoqeiNsR6KjD4wMZ2kfhLj4oHYuyHbZAc3'</span>,\n",
       "        <span style=\"color: #008000; text-decoration-color: #008000\">'hex'</span>: <span style=\"color: #008000; text-decoration-color: #008000\">'0x84d83d08ca89f8e60424ffa286f165c16dd8752e4faa4d8977221e6720678d28'</span>\n",
       "    <span style=\"font-weight: bold\">}</span>,\n",
       "    <span style=\"color: #008000; text-decoration-color: #008000\">'coldkey'</span>: <span style=\"font-weight: bold\">{</span>\n",
       "        <span style=\"color: #008000; text-decoration-color: #008000\">'ss58'</span>: <span style=\"color: #008000; text-decoration-color: #008000\">'5CA7zFakdjXtJRcz4gZ4MZaAwbEqDnW9WZeaqLRdTrejAs8w'</span>,\n",
       "        <span style=\"color: #008000; text-decoration-color: #008000\">'hex'</span>: <span style=\"color: #008000; text-decoration-color: #008000\">'0x042175577a3f6c96ea35c77a1ddd3d02c257bf92613e4519567767f81d82d479'</span>\n",
       "    <span style=\"font-weight: bold\">}</span>,\n",
       "    <span style=\"color: #008000; text-decoration-color: #008000\">'stake'</span>: <span style=\"color: #008000; text-decoration-color: #008000\">'34900000000'</span>,\n",
       "    <span style=\"color: #008000; text-decoration-color: #008000\">'added'</span>: <span style=\"color: #008000; text-decoration-color: #008000\">'34900000000'</span>,\n",
       "    <span style=\"color: #008000; text-decoration-color: #008000\">'removed'</span>: <span style=\"color: #008000; text-decoration-color: #008000\">'0'</span>,\n",
       "    <span style=\"color: #008000; text-decoration-color: #008000\">'action'</span>: <span style=\"color: #008000; text-decoration-color: #008000\">'stake'</span>\n",
       "<span style=\"font-weight: bold\">}</span>\n",
       "</pre>\n"
      ],
      "text/plain": [
       "\u001b[1m{\u001b[0m\n",
       "    \u001b[32m'block_number'\u001b[0m: \u001b[1;36m1754252\u001b[0m,\n",
       "    \u001b[32m'timestamp'\u001b[0m: \u001b[32m'2023-11-20T11:36:48Z'\u001b[0m,\n",
       "    \u001b[32m'hotkey'\u001b[0m: \u001b[1m{\u001b[0m\n",
       "        \u001b[32m'ss58'\u001b[0m: \u001b[32m'5F4tQyWrhfGVcNhoqeiNsR6KjD4wMZ2kfhLj4oHYuyHbZAc3'\u001b[0m,\n",
       "        \u001b[32m'hex'\u001b[0m: \u001b[32m'0x84d83d08ca89f8e60424ffa286f165c16dd8752e4faa4d8977221e6720678d28'\u001b[0m\n",
       "    \u001b[1m}\u001b[0m,\n",
       "    \u001b[32m'coldkey'\u001b[0m: \u001b[1m{\u001b[0m\n",
       "        \u001b[32m'ss58'\u001b[0m: \u001b[32m'5CA7zFakdjXtJRcz4gZ4MZaAwbEqDnW9WZeaqLRdTrejAs8w'\u001b[0m,\n",
       "        \u001b[32m'hex'\u001b[0m: \u001b[32m'0x042175577a3f6c96ea35c77a1ddd3d02c257bf92613e4519567767f81d82d479'\u001b[0m\n",
       "    \u001b[1m}\u001b[0m,\n",
       "    \u001b[32m'stake'\u001b[0m: \u001b[32m'34900000000'\u001b[0m,\n",
       "    \u001b[32m'added'\u001b[0m: \u001b[32m'34900000000'\u001b[0m,\n",
       "    \u001b[32m'removed'\u001b[0m: \u001b[32m'0'\u001b[0m,\n",
       "    \u001b[32m'action'\u001b[0m: \u001b[32m'stake'\u001b[0m\n",
       "\u001b[1m}\u001b[0m\n"
      ]
     },
     "metadata": {},
     "output_type": "display_data"
    }
   ],
   "source": [
    "print(stake_balances[0])"
   ]
  },
  {
   "cell_type": "code",
   "execution_count": 69,
   "id": "2047d678-cf99-4721-85aa-af1fb8f02516",
   "metadata": {},
   "outputs": [],
   "source": [
    "total =0\n",
    "\n",
    "initial_stake = float(stake_balances[0]['stake'])/1e9\n",
    "for index, balance in enumerate(stake_balances):\n",
    "    if index >0:\n",
    "        timestamp = stupid_time_fix(balance['timestamp'])\n",
    "        date = timestamp.date()\n",
    "        date_str = date.strftime(\"%Y-%m-%d\")\n",
    "        hk = balance['hotkey']['ss58']\n",
    "        ck= balance['coldkey']['ss58']\n",
    "        if hk not in income_totals:\n",
    "            income_totals[hk] = {}\n",
    "        #ignore first day, we have that inital stake\n",
    "        instantaneous_stake = float(balance['stake'])/1e9 - float(balance['added'])/1e9 + float(balance['removed'])/1e9\n",
    "        if not hk in daily_stake:\n",
    "            daily_stake[hk]=[]\n",
    "        daily_stake[hk].append(float(balance['stake'])/1e9)\n",
    "        # with many hotkey cannot assume last entry\n",
    "        #past_instantaneous_stake =float(stake_balances[index-1]['stake'])/1e9\n",
    "        #grab day before' data from the incometotals\n",
    "\n",
    "        if len(daily_stake[hk])>1:\n",
    "            past_instantaneous_stake = daily_stake[hk][-2] \n",
    "        else:\n",
    "            past_instantaneous_stake =0\n",
    "\n",
    "        interval_increase = instantaneous_stake - past_instantaneous_stake\n",
    "        if hk == '5GKddwB5MjywC4HSo6T3nRBfvP641XzaCuFw7VbwHv7dDQXy':\n",
    "            \n",
    "            print(date_str, hk,round(past_instantaneous_stake,3), round(instantaneous_stake,3),round(interval_increase,3))\n",
    "        ##interval increase is the income for that day\n",
    "        if date_str in income_totals[hk] and ck in income_totals[hk]:\n",
    "            if 'income' in income_totals[hk][date_str]:\n",
    "                income_totals[hk][date_str]['income'] += round(interval_increase,6)\n",
    "            else:\n",
    "                #new entry\n",
    "                income_totals[hk][date_str]['income'] = round(interval_increase,6)\n",
    "                income_totals[hk][date_str]['price'] =  date_price[date_str]   \n",
    "                income_totals[hk][date_str]['coldkey'] = ck\n",
    "        else:\n",
    "            #new data and enw expense\n",
    "            income_totals[hk][date_str] = {}\n",
    "            income_totals[hk][date_str]['income'] = round(interval_increase,6)\n",
    "            income_totals[hk][date_str]['price'] =  date_price.get(date_str,0)\n",
    "            income_totals[hk][date_str]['coldkey'] = ck"
   ]
  },
  {
   "cell_type": "code",
   "execution_count": 70,
   "id": "33f39fb6-7bd7-48ab-93d9-69fd89d13e24",
   "metadata": {
    "scrolled": true
   },
   "outputs": [],
   "source": [
    "\n",
    "for reg in neuron_registrations:\n",
    "    timestamp = stupid_time_fix(reg['timestamp'])\n",
    "    date = timestamp.date()\n",
    "    date_str = date.strftime(\"%Y-%m-%d\")\n",
    "    reg_cost = float(reg['registration_cost'])/1e9\n",
    "    hk = reg['hotkey']['ss58']\n",
    "    ck = reg['coldkey']['ss58']\n",
    "    if hk not in income_totals:\n",
    "        income_totals[hk] = {}\n",
    "    if date_str in income_totals[hk]:\n",
    "        if 'expense' in income_totals[hk][date_str]:\n",
    "            income_totals[hk][date_str]['expense'] += round(reg_cost,3)\n",
    "        else:\n",
    "            #new entry\n",
    "            income_totals[hk][date_str]['expense'] = round(reg_cost,3)\n",
    "            income_totals[hk][date_str]['price'] =  date_price[date_str]\n",
    "            income_totals[hk][date_str]['coldkey'] = ck\n",
    "    else:\n",
    "        #new data and enw expense\n",
    "        income_totals[hk][date_str] = {}\n",
    "        income_totals[hk][date_str]['expense'] = round(reg_cost,3)\n",
    "        income_totals[hk][date_str]['price'] =  date_price[date_str]\n",
    "        income_totals[hk][date_str]['coldkey'] = ck\n"
   ]
  },
  {
   "cell_type": "code",
   "execution_count": 71,
   "id": "d45a03ce-f261-48cf-b180-7b89247fbd4b",
   "metadata": {},
   "outputs": [],
   "source": [
    "# Open a text file and write the JSON object to it\n",
    "with open('incometotals.json', 'w') as f:\n",
    "    json.dump(income_totals, f)\n",
    "    "
   ]
  },
  {
   "cell_type": "code",
   "execution_count": 72,
   "id": "5f51a416-8956-4e08-aec2-d018c03e47a0",
   "metadata": {},
   "outputs": [],
   "source": [
    "totals_csv = \"coldkey , hotkey , date , income , expense , price \\n\"\n",
    "for key, value in  income_totals.items():\n",
    "    hotkey = key\n",
    "    dates = value\n",
    "    for key1, value1 in dates.items():\n",
    "        date = key1\n",
    "        prices = value1\n",
    "        coldkey = prices.get('coldkey',0)\n",
    "        income = prices.get('income',0)\n",
    "        expense = prices.get('expense',0)\n",
    "        price = prices.get('price',0)\n",
    "        totals_csv += f\"{coldkey} , {hotkey}, {date}, {income}, {expense}, {price} \\n\"\n",
    "    \n",
    "      \n",
    "       \n",
    "        "
   ]
  },
  {
   "cell_type": "code",
   "execution_count": 73,
   "id": "8ed3df06-6610-4f0d-a753-192acf0e8c5d",
   "metadata": {},
   "outputs": [],
   "source": [
    "import csv\n",
    "import io\n",
    "\n",
    "with open('incometotals.csv', 'w', newline='') as f:\n",
    "    writer = csv.writer(f)\n",
    "    reader = csv.reader(io.StringIO(totals_csv), delimiter=',', quotechar='\"')\n",
    "    for row in reader:\n",
    "        writer.writerow(row)"
   ]
  },
  {
   "cell_type": "code",
   "execution_count": null,
   "id": "11cc675b-044e-4e42-b3fa-b143a85d6921",
   "metadata": {},
   "outputs": [],
   "source": []
  },
  {
   "cell_type": "code",
   "execution_count": null,
   "id": "4810b4ee-a89e-41a2-8775-173c66f06a5d",
   "metadata": {},
   "outputs": [],
   "source": []
  },
  {
   "cell_type": "code",
   "execution_count": null,
   "id": "66024bba-73ab-4ccc-a7d7-438e7433f62c",
   "metadata": {},
   "outputs": [],
   "source": []
  }
 ],
 "metadata": {
  "kernelspec": {
   "display_name": "Python 3 (ipykernel)",
   "language": "python",
   "name": "python3"
  },
  "language_info": {
   "codemirror_mode": {
    "name": "ipython",
    "version": 3
   },
   "file_extension": ".py",
   "mimetype": "text/x-python",
   "name": "python",
   "nbconvert_exporter": "python",
   "pygments_lexer": "ipython3",
   "version": "3.12.5"
  }
 },
 "nbformat": 4,
 "nbformat_minor": 5
}
