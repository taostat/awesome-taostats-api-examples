{
 "cells": [
  {
   "cell_type": "code",
   "execution_count": 49,
   "id": "86bc22f8-ffd7-40d6-afb6-c8649d36f138",
   "metadata": {},
   "outputs": [],
   "source": [
    "import requests,json\n",
    "\n",
    "#block start - pick a block before the propsal was added\n",
    "#if tracking a live proposal, ensure block_end > current block - but if another proposal happens afterwad - before that proposal was added\n",
    "\n",
    "#if there are multiple proposals live\n",
    "# we can filter by proposal\n",
    "\n",
    "\n",
    "block_start = 4800000\n",
    "block_end = block_start+100000\n",
    "\n",
    "api_key = \"\"\n",
    "\n",
    "\n",
    "\n",
    "headers = {\n",
    "    \"accept\": \"application/json\",\n",
    "    \"Authorization\": api_key\n",
    "}\n"
   ]
  },
  {
   "cell_type": "code",
   "execution_count": 35,
   "id": "bf10f768-669a-4483-92a3-6a1181f0f6ef",
   "metadata": {},
   "outputs": [
    {
     "name": "stdout",
     "output_type": "stream",
     "text": [
      "5HEo565WAy4Dbq3Sv271SAi7syBSofyfhhwRNjFNSM2gP9M2 Yuma, a DCG Company\n",
      "5GKH9FPPnWSUoeeTJp19wVtd84XqFW4pyK2ijV2GsFbhTrP1 Taostats & Corcel\n",
      "5DvTpiniW9s3APmHRYn8FroUWyfnLtrsid5Mtn5EwMXHN2ed FirstTensor.com\n",
      "5F4tQyWrhfGVcNhoqeiNsR6KjD4wMZ2kfhLj4oHYuyHbZAc3 Openτensor Foundaτion\n",
      "5CsvRJXuR955WojnGMdok1hbhffZyB4N5ocrv82f3p5A2zVp tao5\n",
      "5Fy3MjrdKRvUWSuJa4Yd5dmBYunzKNmXnLcvP22NfaTvhQCY TAO-Validator.com\n",
      "5CBDhkBxf3u7rSZqbcBW59NCpGbCsZSDFBgToEc4owqk8S3A Unit 410\n",
      "5HK5tp6t2S59DywmHRWPBVJeJ86T61KjurYqeooqj8sREpeN Bittensor Guru\n",
      "5FFApaS75bv5pJHfAp2FVLBj9ZaXuFDjEypsaBNc1wCfe52v RoundTable21\n",
      "5HYk8DMKWK8TJyPzZJ9vmZk7B5NPCgjnZoyZ1ZsB54RXdN47 Crucible Labs\n",
      "5Hp18g9P8hLGKp9W3ZDr4bvJwba6b6bY3P2u3VdYf8yMR8FM None\n",
      "5GP7c3fFazW9GXK8Up3qgu2DJBk8inu4aK9TZy3RuoSWVCMi Datura\n"
     ]
    }
   ],
   "source": [
    "#get senators at the correct time in history\n",
    "\n",
    "url = f\"https://api.taostats.io/api/metagraph/root/history/v1?block_start={block_start}&block_end={block_end}\"\n",
    "\n",
    "headers = {\n",
    "    \"accept\": \"application/json\",\n",
    "    \"Authorization\": api_key\n",
    "}\n",
    "\n",
    "response = requests.get(url, headers=headers)\n",
    "resJson = json.loads(response.text)\n",
    "valis = resJson['data']\n",
    "hotkeys = []\n",
    "senate_names = []\n",
    "\n",
    "for vali in valis:\n",
    "    #name = vali['name']\n",
    "    hk= vali['hotkey']['ss58']\n",
    "    hk2 = vali['hotkey']['hex']\n",
    "    senate = vali['senator']\n",
    "    if senate:\n",
    "        hotkeys.append(hk)\n",
    "\n",
    "\n",
    "#now we have the hotkey, but let's get the name \n",
    "for hotkey in hotkeys:\n",
    "    url =  f\"https://api.taostats.io/api/validator/latest/v1?hotkey={hotkey}\"\n",
    "    response = requests.get(url, headers=headers)\n",
    "    name_resJson = json.loads(response.text)\n",
    "    vali = name_resJson['data'][0]\n",
    "    name = vali['name']\n",
    "    hkhex = vali['hotkey']['hex']\n",
    "    senate_names.append([hotkey, hkhex, name])\n",
    "    if name == None:\n",
    "        name = hotkey[:6]\n",
    "for name in senate_names:\n",
    "    print(name[0], name[2])\n",
    "    "
   ]
  },
  {
   "cell_type": "code",
   "execution_count": 38,
   "id": "8fd18c21-ad5f-40d2-9903-6fb31c22ba0b",
   "metadata": {},
   "outputs": [
    {
     "name": "stdout",
     "output_type": "stream",
     "text": [
      "26\n"
     ]
    }
   ],
   "source": [
    "#get the votes\n",
    "\n",
    "\n",
    "url = f\"https://api.taostats.io/api/call/v1?full_name=SubtensorModule.vote&block_start={block_start}\"\n",
    "\n",
    "response = requests.get(url, headers=headers)\n",
    "\n",
    "vote_resJson = json.loads(response.text)\n",
    "vote_data = vote_resJson['data']\n",
    "print(len(vote_data))"
   ]
  },
  {
   "cell_type": "code",
   "execution_count": 47,
   "id": "9643543f-751c-4168-b38d-1df8fea91785",
   "metadata": {},
   "outputs": [
    {
     "name": "stdout",
     "output_type": "stream",
     "text": [
      "0x8061a268220ed66047ab2f5695efa03c5b30ef4a873d97df9969fa690a5feb11 True 3956804\n",
      "0x8061a268220ed66047ab2f5695efa03c5b30ef4a873d97df9969fa690a5feb11 True 3947662\n",
      "0x4ae757897158ef698bfb1841cd38e3d58981918ca2656d95f1244960216ed624 True 823609\n",
      "Yuma, a DCG Company True 822449\n",
      "0x5ebcb8be55eb228e6c994b8291815cab88c36c1571d28d803600ba96e2076c7e True 821685\n",
      "0x12dc421c6e53de8161d0b7a3d1f5377f9044d9f324f98249ca538e92dc90e27e True 821011\n",
      "FirstTensor.com True 818999\n",
      "0xf64a79623e50798cc74d265318be821ff3c0ade63b7d5d402022588e83e8f420 True 813827\n",
      "Openτensor Foundaτion True 813806\n",
      "0x74da87709b7b3ceef6a9acde1916270ad6b48594fecdd46dbe6899c68ad1d458 True 810319\n",
      "0xeaad1116568ea7eaf369b541cbfa9db7480d618c3f968b05e39e2c9ced7a0026 True 807942\n",
      "FirstTensor.com True 726878\n",
      "0x74d9b047ebb099e6427577429021e3bbf5b4f6f8f55f3671d760156d62e17a67 True 726225\n",
      "Yuma, a DCG Company True 725200\n",
      "0xde4e11940aec8bec137f9df5735e315c90f9a1ecfc50365c542ddb41e0e65c65 True 724970\n",
      "0x12dc421c6e53de8161d0b7a3d1f5377f9044d9f324f98249ca538e92dc90e27e False 724785\n",
      "0xf64a79623e50798cc74d265318be821ff3c0ade63b7d5d402022588e83e8f420 True 724216\n",
      "0x74da87709b7b3ceef6a9acde1916270ad6b48594fecdd46dbe6899c68ad1d458 True 724081\n",
      "0xf40f6367220f028f48daf3e4d3fbf7ecb938c570a1a89364739ba0401b280658 True 724063\n",
      "0x7c3c2e6bfd106b553bdda98450bd59db6b2ff2cd03ec44ed5201e729dbc5944a True 721918\n",
      "0x4ae757897158ef698bfb1841cd38e3d58981918ca2656d95f1244960216ed624 True 721872\n",
      "0x7c3c2e6bfd106b553bdda98450bd59db6b2ff2cd03ec44ed5201e729dbc5944a True 721617\n",
      "0xeaad1116568ea7eaf369b541cbfa9db7480d618c3f968b05e39e2c9ced7a0026 True 721396\n",
      "0x5ebcb8be55eb228e6c994b8291815cab88c36c1571d28d803600ba96e2076c7e True 721147\n",
      "0x909e54e926dc068908a270c7d7fe71e5a9513a87baf67280cc026989e60f967d True 721098\n",
      "Openτensor Foundaτion True 721031\n"
     ]
    }
   ],
   "source": [
    "#loop through the votes and change the hex hotkey to the name ofthe vali\n",
    "\n",
    "for vote in vote_data:\n",
    "    block = vote['block_number']\n",
    "    time = vote['timestamp']\n",
    "    success = vote['success']\n",
    "    hk = vote['args']['hotkey']\n",
    "    the_vote = vote['args']['approve']\n",
    "    proposal = vote['args']['proposal']\n",
    "    name = hk\n",
    "    for senator in senate_names:\n",
    "        if hk == senator[1]:\n",
    "            name = senator[2]\n",
    "\n",
    "    print(name, the_vote, block)"
   ]
  },
  {
   "cell_type": "code",
   "execution_count": null,
   "id": "aece96c2-74b9-456f-b81d-931e8975a4e2",
   "metadata": {},
   "outputs": [],
   "source": []
  }
 ],
 "metadata": {
  "kernelspec": {
   "display_name": "Python 3 (ipykernel)",
   "language": "python",
   "name": "python3"
  },
  "language_info": {
   "codemirror_mode": {
    "name": "ipython",
    "version": 3
   },
   "file_extension": ".py",
   "mimetype": "text/x-python",
   "name": "python",
   "nbconvert_exporter": "python",
   "pygments_lexer": "ipython3",
   "version": "3.11.5"
  }
 },
 "nbformat": 4,
 "nbformat_minor": 5
}
