{
 "cells": [
  {
   "cell_type": "markdown",
   "id": "93bbdf99-b806-4c8a-8200-5830c7a636de",
   "metadata": {},
   "source": [
    "This notebook takes an array of coldkeys and finds the emission on every hotkey associated with the coldkey.\n",
    "This works for miners/validators and also stakeholders.\n",
    "\n",
    "1. ADd your API key in the next cell (get one at dash.taostats.io)\n",
    "2. choose your start and end dates in the format YYYY-MM-DD\n",
    "3. Create an array of coldkeys that you wish to track\n",
    "\n",
    "What happens:\n",
    "\n",
    "first cell - stup the urls\n",
    "2nd cell - silly date fixer - sometimes the chain adds MS, someties it does not :man shrugging:\n",
    "3rd cell - query the API to get the daily close price for tao for the date range\n",
    "4th: initialise the data\n",
    "5th: Get the dailye data for each coldkey. There is a slepp to prevent any API rate limiting (after a few price calls that might happen)\n",
    "6th: print one result\n",
    "7th: math the daiy change by comparing day over day balance changes.\n",
    "8th: get any registrations and caluclate those\n",
    "9 & 10 - create a JSON and CSV for the created data\n",
    "\n",
    "coldkey, hotkey, date, income, expense, price\n",
    "\n",
    "your CK, the HK associated, day, tao earned, tao spent, tao price in $\n",
    "\n",
    "the hotkey can be your miner, your validator.. if you are staking it is vthe hotkey of the validator you staked with.\n"
   ]
  },
  {
   "cell_type": "code",
   "execution_count": 28,
   "id": "e8b96c51-a885-4d9e-930a-d983926769f6",
   "metadata": {},
   "outputs": [],
   "source": [
    "import requests, json\n",
    "import pandas as pd\n",
    "import numpy as np\n",
    "import decimal\n",
    "import time\n",
    "from datetime import datetime, timedelta\n",
    "from rich import print\n",
    "\n",
    "\n",
    "api_key=\"\"\n",
    "start_date= \"2024-01-01\"\n",
    "end_date=\"2025-01-01\"\n",
    "networks = [\"finney\", \"nakamoto\", \"kusanagi\"]\n",
    "coldkeys =[\n",
    "\"\"\n",
    "  \n",
    "]\n",
    "\n",
    "# USD, GBP, EUR, etc\n",
    "currency = \"USD\"\n",
    "\n",
    "headers = {\n",
    "            \"accept\": \"application/json\",\n",
    "            \"Authorization\": api_key\n",
    "        }\n"
   ]
  },
  {
   "cell_type": "code",
   "execution_count": 29,
   "id": "fd74ff39-57f3-469a-b55f-383a98c12557",
   "metadata": {},
   "outputs": [],
   "source": [
    "#sometimes the chain spits out a time with milliseconds.. Sometimess it doesnt.  Its annoying.\n",
    "#this fixes it. returns a datetime object\n",
    "def stupid_time_fix(timestamp):\n",
    "    if len(timestamp) > 20:\n",
    "        date_obj = datetime.strptime(timestamp, \"%Y-%m-%dT%H:%M:%S.%fZ\")\n",
    "    else:\n",
    "        date_obj = datetime.strptime(timestamp, \"%Y-%m-%dT%H:%M:%SZ\")\n",
    "    \n",
    "    return date_obj"
   ]
  },
  {
   "cell_type": "code",
   "execution_count": 30,
   "id": "fddcd79e-b2d9-4280-97c2-ec320598bdcc",
   "metadata": {},
   "outputs": [
    {
     "data": {
      "text/html": [
       "<pre style=\"white-space:pre;overflow-x:auto;line-height:normal;font-family:Menlo,'DejaVu Sans Mono',consolas,'Courier New',monospace\"><span style=\"color: #008080; text-decoration-color: #008080; font-weight: bold\">1703824200</span> <span style=\"color: #008080; text-decoration-color: #008080; font-weight: bold\">1735707600</span>\n",
       "</pre>\n"
      ],
      "text/plain": [
       "\u001b[1;36m1703824200\u001b[0m \u001b[1;36m1735707600\u001b[0m\n"
      ]
     },
     "metadata": {},
     "output_type": "display_data"
    },
    {
     "data": {
      "text/html": [
       "<pre style=\"white-space:pre;overflow-x:auto;line-height:normal;font-family:Menlo,'DejaVu Sans Mono',consolas,'Courier New',monospace\"><span style=\"color: #008080; text-decoration-color: #008080; font-weight: bold\">369</span>\n",
       "</pre>\n"
      ],
      "text/plain": [
       "\u001b[1;36m369\u001b[0m\n"
      ]
     },
     "metadata": {},
     "output_type": "display_data"
    }
   ],
   "source": [
    "#get the close price of tao for every date in the range\n",
    "\n",
    "date_obj = datetime.strptime(start_date, \"%Y-%m-%d\")\n",
    "unix_start = int(date_obj.timestamp())-87000*3\n",
    "date_obj = datetime.strptime(end_date, \"%Y-%m-%d\")\n",
    "unix_end = int(date_obj.timestamp())\n",
    "\n",
    "print(unix_start, unix_end)\n",
    "\n",
    "#get all the tao prices\n",
    "all_price_data = []\n",
    "\n",
    "next_page=1\n",
    "\n",
    "while next_page is not None:\n",
    "    price_url=f\"https://api.taostats.io/api/price/ohlc/v1?asset=tao&period=1d&timestamp_start={unix_start}&timestamp_end={unix_end}&limit=200&page={next_page}\"\n",
    "    response = requests.get(price_url, headers=headers)\n",
    "    #print(response.text)\n",
    "    resJson = json.loads(response.text)\n",
    "    next_page = resJson['pagination']['next_page']\n",
    "    all_price_data += resJson['data']\n",
    "\n",
    "print(len(all_price_data))\n",
    "date_price = {}\n",
    "for price in all_price_data:\n",
    "    pricetime  = stupid_time_fix(price['timestamp'])\n",
    "    date = pricetime.date()\n",
    "    date_str = date.strftime(\"%Y-%m-%d\")\n",
    "    close = price['close']\n",
    "    date_price[date_str]=close"
   ]
  },
  {
   "cell_type": "code",
   "execution_count": 31,
   "id": "9819aeb5-efc7-4902-83f6-637a659da16d",
   "metadata": {},
   "outputs": [],
   "source": [
    "#print(resJson)\n",
    "income_totals = {}\n",
    "daily_stake = {}\n",
    "daily_stake_date = {}\n",
    "stake_balances = []\n",
    "neuron_registrations = []"
   ]
  },
  {
   "cell_type": "code",
   "execution_count": 32,
   "id": "847097ad-4457-47f9-b435-3f4d3a108a0c",
   "metadata": {},
   "outputs": [
    {
     "data": {
      "text/html": [
       "<pre style=\"white-space:pre;overflow-x:auto;line-height:normal;font-family:Menlo,'DejaVu Sans Mono',consolas,'Courier New',monospace\">finney 5HayDwsVBpGDExka66oTpc5bWQKYK57atEJej9skQ56gGP8F <span style=\"color: #008080; text-decoration-color: #008080; font-weight: bold\">260.578693058</span> <span style=\"color: #008080; text-decoration-color: #008080; font-weight: bold\">0.0</span>\n",
       "</pre>\n"
      ],
      "text/plain": [
       "finney 5HayDwsVBpGDExka66oTpc5bWQKYK57atEJej9skQ56gGP8F \u001b[1;36m260.578693058\u001b[0m \u001b[1;36m0.0\u001b[0m\n"
      ]
     },
     "metadata": {},
     "output_type": "display_data"
    },
    {
     "data": {
      "text/html": [
       "<pre style=\"white-space:pre;overflow-x:auto;line-height:normal;font-family:Menlo,'DejaVu Sans Mono',consolas,'Courier New',monospace\">nakamoto 5HayDwsVBpGDExka66oTpc5bWQKYK57atEJej9skQ56gGP8F <span style=\"color: #008080; text-decoration-color: #008080; font-weight: bold\">0.0</span> <span style=\"color: #008080; text-decoration-color: #008080; font-weight: bold\">0.0</span>\n",
       "</pre>\n"
      ],
      "text/plain": [
       "nakamoto 5HayDwsVBpGDExka66oTpc5bWQKYK57atEJej9skQ56gGP8F \u001b[1;36m0.0\u001b[0m \u001b[1;36m0.0\u001b[0m\n"
      ]
     },
     "metadata": {},
     "output_type": "display_data"
    },
    {
     "data": {
      "text/html": [
       "<pre style=\"white-space:pre;overflow-x:auto;line-height:normal;font-family:Menlo,'DejaVu Sans Mono',consolas,'Courier New',monospace\">kusanagi 5HayDwsVBpGDExka66oTpc5bWQKYK57atEJej9skQ56gGP8F <span style=\"color: #008080; text-decoration-color: #008080; font-weight: bold\">0.0</span> <span style=\"color: #008080; text-decoration-color: #008080; font-weight: bold\">0.0</span>\n",
       "</pre>\n"
      ],
      "text/plain": [
       "kusanagi 5HayDwsVBpGDExka66oTpc5bWQKYK57atEJej9skQ56gGP8F \u001b[1;36m0.0\u001b[0m \u001b[1;36m0.0\u001b[0m\n"
      ]
     },
     "metadata": {},
     "output_type": "display_data"
    },
    {
     "data": {
      "text/html": [
       "<pre style=\"white-space:pre;overflow-x:auto;line-height:normal;font-family:Menlo,'DejaVu Sans Mono',consolas,'Courier New',monospace\">finney 5G6vvxdMJWrVk2ChUZgAuBegKVCsy3uAzegMohCWNVqwhPso <span style=\"color: #008080; text-decoration-color: #008080; font-weight: bold\">22.876254339</span> <span style=\"color: #008080; text-decoration-color: #008080; font-weight: bold\">0.0</span>\n",
       "</pre>\n"
      ],
      "text/plain": [
       "finney 5G6vvxdMJWrVk2ChUZgAuBegKVCsy3uAzegMohCWNVqwhPso \u001b[1;36m22.876254339\u001b[0m \u001b[1;36m0.0\u001b[0m\n"
      ]
     },
     "metadata": {},
     "output_type": "display_data"
    },
    {
     "data": {
      "text/html": [
       "<pre style=\"white-space:pre;overflow-x:auto;line-height:normal;font-family:Menlo,'DejaVu Sans Mono',consolas,'Courier New',monospace\">nakamoto 5G6vvxdMJWrVk2ChUZgAuBegKVCsy3uAzegMohCWNVqwhPso <span style=\"color: #008080; text-decoration-color: #008080; font-weight: bold\">0.0</span> <span style=\"color: #008080; text-decoration-color: #008080; font-weight: bold\">0.0</span>\n",
       "</pre>\n"
      ],
      "text/plain": [
       "nakamoto 5G6vvxdMJWrVk2ChUZgAuBegKVCsy3uAzegMohCWNVqwhPso \u001b[1;36m0.0\u001b[0m \u001b[1;36m0.0\u001b[0m\n"
      ]
     },
     "metadata": {},
     "output_type": "display_data"
    },
    {
     "data": {
      "text/html": [
       "<pre style=\"white-space:pre;overflow-x:auto;line-height:normal;font-family:Menlo,'DejaVu Sans Mono',consolas,'Courier New',monospace\">kusanagi 5G6vvxdMJWrVk2ChUZgAuBegKVCsy3uAzegMohCWNVqwhPso <span style=\"color: #008080; text-decoration-color: #008080; font-weight: bold\">0.0</span> <span style=\"color: #008080; text-decoration-color: #008080; font-weight: bold\">0.0</span>\n",
       "</pre>\n"
      ],
      "text/plain": [
       "kusanagi 5G6vvxdMJWrVk2ChUZgAuBegKVCsy3uAzegMohCWNVqwhPso \u001b[1;36m0.0\u001b[0m \u001b[1;36m0.0\u001b[0m\n"
      ]
     },
     "metadata": {},
     "output_type": "display_data"
    },
    {
     "data": {
      "text/html": [
       "<pre style=\"white-space:pre;overflow-x:auto;line-height:normal;font-family:Menlo,'DejaVu Sans Mono',consolas,'Courier New',monospace\">finney 5DLaxCfyvyvRikfc3DtYvUQMzGZfy2GPYyCRkh2fNq6EcD73 <span style=\"color: #008080; text-decoration-color: #008080; font-weight: bold\">52.912403333</span> <span style=\"color: #008080; text-decoration-color: #008080; font-weight: bold\">0.0</span>\n",
       "</pre>\n"
      ],
      "text/plain": [
       "finney 5DLaxCfyvyvRikfc3DtYvUQMzGZfy2GPYyCRkh2fNq6EcD73 \u001b[1;36m52.912403333\u001b[0m \u001b[1;36m0.0\u001b[0m\n"
      ]
     },
     "metadata": {},
     "output_type": "display_data"
    },
    {
     "data": {
      "text/html": [
       "<pre style=\"white-space:pre;overflow-x:auto;line-height:normal;font-family:Menlo,'DejaVu Sans Mono',consolas,'Courier New',monospace\">nakamoto 5DLaxCfyvyvRikfc3DtYvUQMzGZfy2GPYyCRkh2fNq6EcD73 <span style=\"color: #008080; text-decoration-color: #008080; font-weight: bold\">0.0</span> <span style=\"color: #008080; text-decoration-color: #008080; font-weight: bold\">0.0</span>\n",
       "</pre>\n"
      ],
      "text/plain": [
       "nakamoto 5DLaxCfyvyvRikfc3DtYvUQMzGZfy2GPYyCRkh2fNq6EcD73 \u001b[1;36m0.0\u001b[0m \u001b[1;36m0.0\u001b[0m\n"
      ]
     },
     "metadata": {},
     "output_type": "display_data"
    },
    {
     "data": {
      "text/html": [
       "<pre style=\"white-space:pre;overflow-x:auto;line-height:normal;font-family:Menlo,'DejaVu Sans Mono',consolas,'Courier New',monospace\">kusanagi 5DLaxCfyvyvRikfc3DtYvUQMzGZfy2GPYyCRkh2fNq6EcD73 <span style=\"color: #008080; text-decoration-color: #008080; font-weight: bold\">0.0</span> <span style=\"color: #008080; text-decoration-color: #008080; font-weight: bold\">0.0</span>\n",
       "</pre>\n"
      ],
      "text/plain": [
       "kusanagi 5DLaxCfyvyvRikfc3DtYvUQMzGZfy2GPYyCRkh2fNq6EcD73 \u001b[1;36m0.0\u001b[0m \u001b[1;36m0.0\u001b[0m\n"
      ]
     },
     "metadata": {},
     "output_type": "display_data"
    },
    {
     "data": {
      "text/html": [
       "<pre style=\"white-space:pre;overflow-x:auto;line-height:normal;font-family:Menlo,'DejaVu Sans Mono',consolas,'Courier New',monospace\">finney 5DcxasXA1jaCGkVvimQhiFjF6GfmvT79cgbPrfjoQoXgSTRT <span style=\"color: #008080; text-decoration-color: #008080; font-weight: bold\">2.442111893</span> <span style=\"color: #008080; text-decoration-color: #008080; font-weight: bold\">0.0</span>\n",
       "</pre>\n"
      ],
      "text/plain": [
       "finney 5DcxasXA1jaCGkVvimQhiFjF6GfmvT79cgbPrfjoQoXgSTRT \u001b[1;36m2.442111893\u001b[0m \u001b[1;36m0.0\u001b[0m\n"
      ]
     },
     "metadata": {},
     "output_type": "display_data"
    },
    {
     "data": {
      "text/html": [
       "<pre style=\"white-space:pre;overflow-x:auto;line-height:normal;font-family:Menlo,'DejaVu Sans Mono',consolas,'Courier New',monospace\">nakamoto 5DcxasXA1jaCGkVvimQhiFjF6GfmvT79cgbPrfjoQoXgSTRT <span style=\"color: #008080; text-decoration-color: #008080; font-weight: bold\">0.0</span> <span style=\"color: #008080; text-decoration-color: #008080; font-weight: bold\">0.0</span>\n",
       "</pre>\n"
      ],
      "text/plain": [
       "nakamoto 5DcxasXA1jaCGkVvimQhiFjF6GfmvT79cgbPrfjoQoXgSTRT \u001b[1;36m0.0\u001b[0m \u001b[1;36m0.0\u001b[0m\n"
      ]
     },
     "metadata": {},
     "output_type": "display_data"
    },
    {
     "data": {
      "text/html": [
       "<pre style=\"white-space:pre;overflow-x:auto;line-height:normal;font-family:Menlo,'DejaVu Sans Mono',consolas,'Courier New',monospace\">kusanagi 5DcxasXA1jaCGkVvimQhiFjF6GfmvT79cgbPrfjoQoXgSTRT <span style=\"color: #008080; text-decoration-color: #008080; font-weight: bold\">0.0</span> <span style=\"color: #008080; text-decoration-color: #008080; font-weight: bold\">0.0</span>\n",
       "</pre>\n"
      ],
      "text/plain": [
       "kusanagi 5DcxasXA1jaCGkVvimQhiFjF6GfmvT79cgbPrfjoQoXgSTRT \u001b[1;36m0.0\u001b[0m \u001b[1;36m0.0\u001b[0m\n"
      ]
     },
     "metadata": {},
     "output_type": "display_data"
    },
    {
     "data": {
      "text/html": [
       "<pre style=\"white-space:pre;overflow-x:auto;line-height:normal;font-family:Menlo,'DejaVu Sans Mono',consolas,'Courier New',monospace\">finney 5E1fgEuEGUo9TSDuvGdpyNrn8NrFxHesCGPafXDBg6xeCKh3 <span style=\"color: #008080; text-decoration-color: #008080; font-weight: bold\">40.875889144</span> <span style=\"color: #008080; text-decoration-color: #008080; font-weight: bold\">0.0</span>\n",
       "</pre>\n"
      ],
      "text/plain": [
       "finney 5E1fgEuEGUo9TSDuvGdpyNrn8NrFxHesCGPafXDBg6xeCKh3 \u001b[1;36m40.875889144\u001b[0m \u001b[1;36m0.0\u001b[0m\n"
      ]
     },
     "metadata": {},
     "output_type": "display_data"
    },
    {
     "data": {
      "text/html": [
       "<pre style=\"white-space:pre;overflow-x:auto;line-height:normal;font-family:Menlo,'DejaVu Sans Mono',consolas,'Courier New',monospace\">nakamoto 5E1fgEuEGUo9TSDuvGdpyNrn8NrFxHesCGPafXDBg6xeCKh3 <span style=\"color: #008080; text-decoration-color: #008080; font-weight: bold\">0.0</span> <span style=\"color: #008080; text-decoration-color: #008080; font-weight: bold\">0.0</span>\n",
       "</pre>\n"
      ],
      "text/plain": [
       "nakamoto 5E1fgEuEGUo9TSDuvGdpyNrn8NrFxHesCGPafXDBg6xeCKh3 \u001b[1;36m0.0\u001b[0m \u001b[1;36m0.0\u001b[0m\n"
      ]
     },
     "metadata": {},
     "output_type": "display_data"
    },
    {
     "data": {
      "text/html": [
       "<pre style=\"white-space:pre;overflow-x:auto;line-height:normal;font-family:Menlo,'DejaVu Sans Mono',consolas,'Courier New',monospace\">kusanagi 5E1fgEuEGUo9TSDuvGdpyNrn8NrFxHesCGPafXDBg6xeCKh3 <span style=\"color: #008080; text-decoration-color: #008080; font-weight: bold\">0.0</span> <span style=\"color: #008080; text-decoration-color: #008080; font-weight: bold\">0.0</span>\n",
       "</pre>\n"
      ],
      "text/plain": [
       "kusanagi 5E1fgEuEGUo9TSDuvGdpyNrn8NrFxHesCGPafXDBg6xeCKh3 \u001b[1;36m0.0\u001b[0m \u001b[1;36m0.0\u001b[0m\n"
      ]
     },
     "metadata": {},
     "output_type": "display_data"
    },
    {
     "data": {
      "text/html": [
       "<pre style=\"white-space:pre;overflow-x:auto;line-height:normal;font-family:Menlo,'DejaVu Sans Mono',consolas,'Courier New',monospace\">finney 5D4ozfABHjkFVz31ckQvvHHcP2r6h3kaR3TSANPyheosLYdm <span style=\"color: #008080; text-decoration-color: #008080; font-weight: bold\">0.0</span> <span style=\"color: #008080; text-decoration-color: #008080; font-weight: bold\">0.0</span>\n",
       "</pre>\n"
      ],
      "text/plain": [
       "finney 5D4ozfABHjkFVz31ckQvvHHcP2r6h3kaR3TSANPyheosLYdm \u001b[1;36m0.0\u001b[0m \u001b[1;36m0.0\u001b[0m\n"
      ]
     },
     "metadata": {},
     "output_type": "display_data"
    },
    {
     "data": {
      "text/html": [
       "<pre style=\"white-space:pre;overflow-x:auto;line-height:normal;font-family:Menlo,'DejaVu Sans Mono',consolas,'Courier New',monospace\">nakamoto 5D4ozfABHjkFVz31ckQvvHHcP2r6h3kaR3TSANPyheosLYdm <span style=\"color: #008080; text-decoration-color: #008080; font-weight: bold\">0.0</span> <span style=\"color: #008080; text-decoration-color: #008080; font-weight: bold\">0.0</span>\n",
       "</pre>\n"
      ],
      "text/plain": [
       "nakamoto 5D4ozfABHjkFVz31ckQvvHHcP2r6h3kaR3TSANPyheosLYdm \u001b[1;36m0.0\u001b[0m \u001b[1;36m0.0\u001b[0m\n"
      ]
     },
     "metadata": {},
     "output_type": "display_data"
    },
    {
     "data": {
      "text/html": [
       "<pre style=\"white-space:pre;overflow-x:auto;line-height:normal;font-family:Menlo,'DejaVu Sans Mono',consolas,'Courier New',monospace\">kusanagi 5D4ozfABHjkFVz31ckQvvHHcP2r6h3kaR3TSANPyheosLYdm <span style=\"color: #008080; text-decoration-color: #008080; font-weight: bold\">0.0</span> <span style=\"color: #008080; text-decoration-color: #008080; font-weight: bold\">0.0</span>\n",
       "</pre>\n"
      ],
      "text/plain": [
       "kusanagi 5D4ozfABHjkFVz31ckQvvHHcP2r6h3kaR3TSANPyheosLYdm \u001b[1;36m0.0\u001b[0m \u001b[1;36m0.0\u001b[0m\n"
      ]
     },
     "metadata": {},
     "output_type": "display_data"
    },
    {
     "data": {
      "text/html": [
       "<pre style=\"white-space:pre;overflow-x:auto;line-height:normal;font-family:Menlo,'DejaVu Sans Mono',consolas,'Courier New',monospace\">finney 5F7PwP2ysRFzhBoSV3qrKwvJYJm8V8dCvXJUAAePJjX1GUjy <span style=\"color: #008080; text-decoration-color: #008080; font-weight: bold\">0.0</span> <span style=\"color: #008080; text-decoration-color: #008080; font-weight: bold\">0.0</span>\n",
       "</pre>\n"
      ],
      "text/plain": [
       "finney 5F7PwP2ysRFzhBoSV3qrKwvJYJm8V8dCvXJUAAePJjX1GUjy \u001b[1;36m0.0\u001b[0m \u001b[1;36m0.0\u001b[0m\n"
      ]
     },
     "metadata": {},
     "output_type": "display_data"
    },
    {
     "data": {
      "text/html": [
       "<pre style=\"white-space:pre;overflow-x:auto;line-height:normal;font-family:Menlo,'DejaVu Sans Mono',consolas,'Courier New',monospace\">nakamoto 5F7PwP2ysRFzhBoSV3qrKwvJYJm8V8dCvXJUAAePJjX1GUjy <span style=\"color: #008080; text-decoration-color: #008080; font-weight: bold\">0.0</span> <span style=\"color: #008080; text-decoration-color: #008080; font-weight: bold\">0.0</span>\n",
       "</pre>\n"
      ],
      "text/plain": [
       "nakamoto 5F7PwP2ysRFzhBoSV3qrKwvJYJm8V8dCvXJUAAePJjX1GUjy \u001b[1;36m0.0\u001b[0m \u001b[1;36m0.0\u001b[0m\n"
      ]
     },
     "metadata": {},
     "output_type": "display_data"
    },
    {
     "data": {
      "text/html": [
       "<pre style=\"white-space:pre;overflow-x:auto;line-height:normal;font-family:Menlo,'DejaVu Sans Mono',consolas,'Courier New',monospace\">kusanagi 5F7PwP2ysRFzhBoSV3qrKwvJYJm8V8dCvXJUAAePJjX1GUjy <span style=\"color: #008080; text-decoration-color: #008080; font-weight: bold\">0.0</span> <span style=\"color: #008080; text-decoration-color: #008080; font-weight: bold\">0.0</span>\n",
       "</pre>\n"
      ],
      "text/plain": [
       "kusanagi 5F7PwP2ysRFzhBoSV3qrKwvJYJm8V8dCvXJUAAePJjX1GUjy \u001b[1;36m0.0\u001b[0m \u001b[1;36m0.0\u001b[0m\n"
      ]
     },
     "metadata": {},
     "output_type": "display_data"
    },
    {
     "data": {
      "text/html": [
       "<pre style=\"white-space:pre;overflow-x:auto;line-height:normal;font-family:Menlo,'DejaVu Sans Mono',consolas,'Courier New',monospace\">finney 5GzwqFeaJgg2sxzMmYU9jVzgijxx9xeDSgp7gU8PA6VH7r7r <span style=\"color: #008080; text-decoration-color: #008080; font-weight: bold\">0.0</span> <span style=\"color: #008080; text-decoration-color: #008080; font-weight: bold\">0.0</span>\n",
       "</pre>\n"
      ],
      "text/plain": [
       "finney 5GzwqFeaJgg2sxzMmYU9jVzgijxx9xeDSgp7gU8PA6VH7r7r \u001b[1;36m0.0\u001b[0m \u001b[1;36m0.0\u001b[0m\n"
      ]
     },
     "metadata": {},
     "output_type": "display_data"
    },
    {
     "data": {
      "text/html": [
       "<pre style=\"white-space:pre;overflow-x:auto;line-height:normal;font-family:Menlo,'DejaVu Sans Mono',consolas,'Courier New',monospace\">nakamoto 5GzwqFeaJgg2sxzMmYU9jVzgijxx9xeDSgp7gU8PA6VH7r7r <span style=\"color: #008080; text-decoration-color: #008080; font-weight: bold\">0.0</span> <span style=\"color: #008080; text-decoration-color: #008080; font-weight: bold\">0.0</span>\n",
       "</pre>\n"
      ],
      "text/plain": [
       "nakamoto 5GzwqFeaJgg2sxzMmYU9jVzgijxx9xeDSgp7gU8PA6VH7r7r \u001b[1;36m0.0\u001b[0m \u001b[1;36m0.0\u001b[0m\n"
      ]
     },
     "metadata": {},
     "output_type": "display_data"
    },
    {
     "data": {
      "text/html": [
       "<pre style=\"white-space:pre;overflow-x:auto;line-height:normal;font-family:Menlo,'DejaVu Sans Mono',consolas,'Courier New',monospace\">kusanagi 5GzwqFeaJgg2sxzMmYU9jVzgijxx9xeDSgp7gU8PA6VH7r7r <span style=\"color: #008080; text-decoration-color: #008080; font-weight: bold\">0.0</span> <span style=\"color: #008080; text-decoration-color: #008080; font-weight: bold\">0.0</span>\n",
       "</pre>\n"
      ],
      "text/plain": [
       "kusanagi 5GzwqFeaJgg2sxzMmYU9jVzgijxx9xeDSgp7gU8PA6VH7r7r \u001b[1;36m0.0\u001b[0m \u001b[1;36m0.0\u001b[0m\n"
      ]
     },
     "metadata": {},
     "output_type": "display_data"
    }
   ],
   "source": [
    "\n",
    "for coldkey in coldkeys:\n",
    "    for network in networks:\n",
    "        pages = 1\n",
    "        page =1\n",
    "    \n",
    "        url = f\"https://api.taostats.io/api/accounting/v1?network={network}&date_start={start_date}&date_end={end_date}&coldkey={coldkey}&page={page}\"\n",
    "        \n",
    "        response = requests.get(url, headers=headers)\n",
    "        #print(response.text)\n",
    "        resJson = json.loads(response.text)\n",
    "        income = float(resJson['data'][0]['income'])/1e9\n",
    "        reg_costs = float(resJson['data'][0]['neuron_registration_cost'])/1e9\n",
    "        pages = resJson['pagination']['total_pages']\n",
    "        print(network, coldkey, income, reg_costs)\n",
    "        stake_balances += resJson['data'][0]['stake_balances']\n",
    "        neuron_registrations  += resJson['data'][0]['neuron_registrations']\n",
    "        time.sleep(1)"
   ]
  },
  {
   "cell_type": "code",
   "execution_count": 33,
   "id": "2047d678-cf99-4721-85aa-af1fb8f02516",
   "metadata": {},
   "outputs": [],
   "source": [
    "total =0\n",
    "income_totals = {}\n",
    "daily_stake = {}\n",
    "daily_stake_date = {}\n",
    "\n",
    "initial_stake = float(stake_balances[0]['stake'])/1e9\n",
    "for index, balance in enumerate(stake_balances):\n",
    "    if index >=0:\n",
    "        newColdkey = False\n",
    "        timestamp = stupid_time_fix(balance['timestamp'])\n",
    "        date = timestamp.date()\n",
    "        yesterday = date-timedelta(days=1)\n",
    "        date_str = date.strftime(\"%Y-%m-%d\")\n",
    "        yesterday_date_str  = yesterday.strftime(\"%Y-%m-%d\")\n",
    "        hk = balance['hotkey']['ss58']\n",
    "        ck= balance['coldkey']['ss58']\n",
    "        stake_balance = float(balance['stake'])/1e9\n",
    "        added = float(balance['added'])/1e9\n",
    "        removed  = float(balance['removed'])/1e9\n",
    "        if ck not in income_totals:\n",
    "            income_totals[ck] = {}\n",
    "            newColdkey=True\n",
    "        if hk not in income_totals[ck]:\n",
    "            income_totals[ck][hk] = {}\n",
    "        if date_str not in income_totals[ck][hk]:\n",
    "            #print(date_str)\n",
    "            income_totals[ck][hk][date_str] = {\"stake\": 0, \"added\":0, \"removed\":0,\"total\":0, \"dod\":0, \"price\": date_price[date_str]}\n",
    "        #get yesterdays stake, if it exists\n",
    "        yesterday_stake = 0\n",
    "        if yesterday_date_str in income_totals[ck][hk]:\n",
    "            yesterday_stake = income_totals[ck][hk][yesterday_date_str]['stake']\n",
    "        #print(date_str, yesterday_date_str,yesterday_stake, newColdkey)\n",
    "        #stake is a static value. we want the last value for the day.\n",
    "        #if we add it each time, the last value of teh day will be the final value\n",
    "        income_totals[ck][hk][date_str]['stake'] = stake_balance\n",
    "\n",
    "        # added  must be a sum of all stake added to the hotkey in this day\n",
    "        income_totals[ck][hk][date_str]['added'] += added\n",
    "        #removed is a sum of all stake removved during the day\n",
    "        income_totals[ck][hk][date_str]['removed'] += removed\n",
    "\n",
    "        if newColdkey:\n",
    "            #total earned is  - added + removed\n",
    "            #for a new ck we ignore the instake - it is not income it was there before hhis loop started\n",
    "            \n",
    "            income_totals[ck][hk][date_str]['total'] = - income_totals[ck][hk][date_str]['added'] +income_totals[ck][hk][date_str]['removed']\n",
    "    \n",
    "            \n",
    "        else:\n",
    "            #total earned is currnet stake - added + removed\n",
    "            income_totals[ck][hk][date_str]['total'] = income_totals[ck][hk][date_str]['stake'] - income_totals[ck][hk][date_str]['added'] +income_totals[ck][hk][date_str]['removed']\n",
    "    \n",
    "        #dod is today's total minus yesterdays stake\n",
    "        income_totals[ck][hk][date_str]['dod'] = income_totals[ck][hk][date_str]['total'] - yesterday_stake\n",
    "            \n",
    "#print(income_totals)\n",
    "\n",
    "\n",
    "# So daily_stake_date has the total staked value for the day for all "
   ]
  },
  {
   "cell_type": "code",
   "execution_count": 34,
   "id": "33f39fb6-7bd7-48ab-93d9-69fd89d13e24",
   "metadata": {
    "scrolled": true
   },
   "outputs": [],
   "source": [
    "\n",
    "for reg in neuron_registrations:\n",
    "    timestamp = stupid_time_fix(reg['timestamp'])\n",
    "    date = timestamp.date()\n",
    "    date_str = date.strftime(\"%Y-%m-%d\")\n",
    "    reg_cost = float(reg['registration_cost'])/1e9\n",
    "    hk = reg['hotkey']['ss58']\n",
    "    ck = reg['coldkey']['ss58']\n",
    "    if ck not in income_totals:\n",
    "            income_totals[ck] = {}\n",
    "    if hk not in income_totals[ck]:\n",
    "            income_totals[ck][hk] = {}\n",
    "    if date_str in income_totals[ck][hk]:\n",
    "        if 'expense' in income_totals[ck][hk][date_str]:\n",
    "            income_totals[ck][hk][date_str]['expense'] += round(reg_cost,3)\n",
    "        else:\n",
    "            #new entry\n",
    "            income_totals[ck][hk][date_str]['expense'] = round(reg_cost,3)\n",
    "            income_totals[ck][hk][date_str]['price'] =  date_price[date_str]\n",
    "            income_totals[ck][hk][date_str]['coldkey'] = ck\n",
    "    else:\n",
    "        #new data and enw expense\n",
    "        income_totals[ck][hk][date_str] = {}\n",
    "        income_totals[ck][hk][date_str]['expense'] = round(reg_cost,3)\n",
    "        income_totals[ck][hk][date_str]['price'] =  date_price[date_str]\n",
    "        income_totals[ck][hk][date_str]['coldkey'] = ck\n"
   ]
  },
  {
   "cell_type": "code",
   "execution_count": 35,
   "id": "d45a03ce-f261-48cf-b180-7b89247fbd4b",
   "metadata": {},
   "outputs": [],
   "source": [
    "# Open a text file and write the JSON object to it\n",
    "with open('incometotals.json', 'w') as f:\n",
    "    json.dump(income_totals, f)\n",
    "    "
   ]
  },
  {
   "cell_type": "code",
   "execution_count": 36,
   "id": "5f51a416-8956-4e08-aec2-d018c03e47a0",
   "metadata": {},
   "outputs": [],
   "source": [
    "totals_csv = \"coldkey , hotkey , date , income , expense , price \\n\"\n",
    "for coldkey, hotkeyValues in  income_totals.items():\n",
    "    for hotkey, dateValues in hotkeyValues.items():\n",
    "        for date, prices in dateValues.items():\n",
    "            income = prices.get('dod',0)\n",
    "            expense = prices.get('expense',0)\n",
    "            price = prices.get('price',0)\n",
    "            totals_csv += f\"{coldkey} , {hotkey}, {date}, {income}, {expense}, {price} \\n\"\n",
    "        \n",
    "      \n",
    "       \n",
    "        "
   ]
  },
  {
   "cell_type": "code",
   "execution_count": 37,
   "id": "8ed3df06-6610-4f0d-a753-192acf0e8c5d",
   "metadata": {},
   "outputs": [],
   "source": [
    "import csv\n",
    "import io\n",
    "\n",
    "with open('incometotalsv2.csv', 'w', newline='') as f:\n",
    "    writer = csv.writer(f)\n",
    "    reader = csv.reader(io.StringIO(totals_csv), delimiter=',', quotechar='\"')\n",
    "    for row in reader:\n",
    "        writer.writerow(row)"
   ]
  },
  {
   "cell_type": "code",
   "execution_count": null,
   "id": "144d6978-7783-49ad-ba3b-c5bed5ee3531",
   "metadata": {},
   "outputs": [],
   "source": []
  }
 ],
 "metadata": {
  "kernelspec": {
   "display_name": "Python 3 (ipykernel)",
   "language": "python",
   "name": "python3"
  },
  "language_info": {
   "codemirror_mode": {
    "name": "ipython",
    "version": 3
   },
   "file_extension": ".py",
   "mimetype": "text/x-python",
   "name": "python",
   "nbconvert_exporter": "python",
   "pygments_lexer": "ipython3",
   "version": "3.11.5"
  }
 },
 "nbformat": 4,
 "nbformat_minor": 5
}
