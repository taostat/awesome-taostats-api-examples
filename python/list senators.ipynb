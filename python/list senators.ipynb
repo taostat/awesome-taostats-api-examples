{
 "cells": [
  {
   "cell_type": "code",
   "execution_count": 2,
   "id": "52541853-e9bd-41f9-b786-9945cc979d3e",
   "metadata": {},
   "outputs": [],
   "source": [
    "import requests,json\n",
    "\n",
    "url = \"https://api.taostats.io/api/metagraph/root/latest/v1\"\n",
    "\n",
    "headers = {\n",
    "    \"accept\": \"application/json\",\n",
    "    \"Authorization\": api_key\n",
    "}\n",
    "\n",
    "response = requests.get(url, headers=headers)\n"
   ]
  },
  {
   "cell_type": "code",
   "execution_count": 8,
   "id": "c9b37901-aa56-4c0a-97d3-d21cc3793184",
   "metadata": {},
   "outputs": [
    {
     "name": "stdout",
     "output_type": "stream",
     "text": [
      "5GKH9FPPnWSUoeeTJp19wVtd84XqFW4pyK2ijV2GsFbhTrP1\n",
      "5F4tQyWrhfGVcNhoqeiNsR6KjD4wMZ2kfhLj4oHYuyHbZAc3\n",
      "5HEo565WAy4Dbq3Sv271SAi7syBSofyfhhwRNjFNSM2gP9M2\n",
      "5HK5tp6t2S59DywmHRWPBVJeJ86T61KjurYqeooqj8sREpeN\n",
      "5GP7c3fFazW9GXK8Up3qgu2DJBk8inu4aK9TZy3RuoSWVCMi\n",
      "5FFApaS75bv5pJHfAp2FVLBj9ZaXuFDjEypsaBNc1wCfe52v\n",
      "5Fy3MjrdKRvUWSuJa4Yd5dmBYunzKNmXnLcvP22NfaTvhQCY\n",
      "5DvTpiniW9s3APmHRYn8FroUWyfnLtrsid5Mtn5EwMXHN2ed\n",
      "5CBDhkBxf3u7rSZqbcBW59NCpGbCsZSDFBgToEc4owqk8S3A\n",
      "5Hp18g9P8hLGKp9W3ZDr4bvJwba6b6bY3P2u3VdYf8yMR8FM\n",
      "5F27Eqz2PhyMtGMEce898x31DokNqRVxkm5AhDDe6rDGNvoY\n",
      "5CoZxgtfhcJKX2HmkwnsN18KbaT9aih9eF3b6qVPTgAUbifj\n"
     ]
    }
   ],
   "source": [
    "\n",
    "resJson = json.loads(response.text)\n",
    "valis = resJson['data']\n",
    "hotkeys = []\n",
    "for vali in valis:\n",
    "    #name = vali['name']\n",
    "    hk= vali['hotkey']['ss58']\n",
    "    senate = vali['senator']\n",
    "    if senate:\n",
    "        print(hk)\n",
    "        hotkeys.append(hk)"
   ]
  },
  {
   "cell_type": "code",
   "execution_count": 9,
   "id": "c8691bbe-d40e-40cd-baea-288e318c71e9",
   "metadata": {},
   "outputs": [
    {
     "name": "stdout",
     "output_type": "stream",
     "text": [
      "Taostats & Corcel\n",
      "Openτensor Foundaτion\n",
      "Yuma, a DCG Company\n",
      "Bittensor Guru\n",
      "Datura\n",
      "RoundTable21\n",
      "TAO-Validator.com\n",
      "FirstTensor.com\n",
      "Unit 410\n",
      "5Hp18g\n",
      "Love\n",
      "Latent Holdings\n"
     ]
    }
   ],
   "source": [
    "for hotkey in hotkeys:\n",
    "    url =  f\"https://api.taostats.io/api/validator/latest/v1?hotkey={hotkey}\"\n",
    "    response = requests.get(url, headers=headers)\n",
    "    resJson = json.loads(response.text)\n",
    "    vali = resJson['data'][0]\n",
    "    name = vali['name']\n",
    "    if name == None:\n",
    "        name = hotkey[:6]\n",
    "    print(name)\n",
    "    "
   ]
  },
  {
   "cell_type": "code",
   "execution_count": null,
   "id": "0706b28b-efab-4e81-bd8f-2ddf1550aeea",
   "metadata": {},
   "outputs": [],
   "source": []
  }
 ],
 "metadata": {
  "kernelspec": {
   "display_name": "Python 3 (ipykernel)",
   "language": "python",
   "name": "python3"
  },
  "language_info": {
   "codemirror_mode": {
    "name": "ipython",
    "version": 3
   },
   "file_extension": ".py",
   "mimetype": "text/x-python",
   "name": "python",
   "nbconvert_exporter": "python",
   "pygments_lexer": "ipython3",
   "version": "3.11.5"
  }
 },
 "nbformat": 4,
 "nbformat_minor": 5
}
